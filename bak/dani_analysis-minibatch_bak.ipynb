{
 "cells": [
  {
   "cell_type": "code",
   "execution_count": 1,
   "id": "fd7eb8b5-1e17-4b67-92cb-c4d4bec97dcc",
   "metadata": {},
   "outputs": [
    {
     "name": "stderr",
     "output_type": "stream",
     "text": [
      "/home/sentr/bin/miniconda/envs/gpytorch/lib/python3.11/site-packages/tqdm/auto.py:21: TqdmWarning: IProgress not found. Please update jupyter and ipywidgets. See https://ipywidgets.readthedocs.io/en/stable/user_install.html\n",
      "  from .autonotebook import tqdm as notebook_tqdm\n"
     ]
    }
   ],
   "source": [
    "# Packages for model learning\n",
    "import numpy as np\n",
    "import sklearn.metrics\n",
    "import pandas as pd\n",
    "import sklearn.model_selection\n",
    "\n",
    "import torch\n",
    "import torchvision\n",
    "import gpytorch\n",
    "import botorch\n",
    "\n",
    "# Packages for data loading\n",
    "import json\n",
    "from pathlib import Path"
   ]
  },
  {
   "cell_type": "code",
   "execution_count": 2,
   "id": "3bb42c13-8a0a-43d2-be92-1243fa82c2e9",
   "metadata": {},
   "outputs": [],
   "source": [
    "# Packages for Jupyter notebook\n",
    "import IPython.display as ipd\n",
    "import matplotlib.pyplot as plt\n",
    "import PIL\n",
    "import base64"
   ]
  },
  {
   "cell_type": "code",
   "execution_count": 3,
   "id": "e99da150",
   "metadata": {},
   "outputs": [],
   "source": [
    "from functools import cache\n",
    "\n",
    "tensor_to_image = torchvision.transforms.ToPILImage()\n",
    "@cache\n",
    "def tensor_to_url(tensor, size=128):\n",
    "    return fr\"data:image/png;base64,{base64.b64encode(PIL.ImageOps.contain(tensor_to_image(tensor), (size, size))._repr_png_()).decode('ascii')}\""
   ]
  },
  {
   "cell_type": "markdown",
   "id": "33eb9613-1cb7-4a50-be91-96f1c970e580",
   "metadata": {},
   "source": [
    "# Load and process data"
   ]
  },
  {
   "cell_type": "code",
   "execution_count": 4,
   "id": "40d03fde-9bb9-454c-845d-ba6a20b5ea43",
   "metadata": {},
   "outputs": [],
   "source": [
    "# Make all photos square\n",
    "def pad_image(img):\n",
    "    h,w = img.shape[1:]\n",
    "    if h != w:\n",
    "        new_w = max(h,w)\n",
    "        pad_h, rem_h = divmod(new_w - h, 2)\n",
    "        pad_w, rem_w = divmod(new_w - w, 2)\n",
    "        padding = [pad_w, pad_h, pad_w+rem_w, pad_h+rem_h]\n",
    "        return torchvision.transforms.functional.pad(img, padding, padding_mode='edge')\n",
    "    return img"
   ]
  },
  {
   "cell_type": "code",
   "execution_count": 5,
   "id": "cfb725f3-a290-4201-9064-ebc7ada35dbd",
   "metadata": {},
   "outputs": [],
   "source": [
    "# Load dataset\n",
    "\n",
    "# img_root = './dataset/dress_pure_renamed/'\n",
    "# train_metadata = json.loads(Path('./dataset/dress_pure_renamed/train.json').read_text())\n",
    "# test_metadata = json.loads(Path('./dataset/dress_pure_renamed/test.json').read_text())\n",
    "# val_metadata = json.loads(Path('./dataset/dress_pure_renamed/val.json').read_text())\n",
    "\n",
    "# class_labels = ['christian_dior', 'maison_margiela']\n",
    "torch.manual_seed(0)\n",
    "# device = torch.device(\"cuda:0\" if torch.cuda.is_available() else \"cpu\")\n",
    "device = \"cpu\"\n",
    "\n",
    "img_root = Path('./dataset/')\n",
    "train_metadata = json.loads((img_root / 'train.json').read_text())\n",
    "test_metadata = json.loads((img_root / 'test.json').read_text())\n",
    "val_metadata = json.loads((img_root / 'val.json').read_text())\n",
    "\n",
    "class_labels = [\"alexander_mcqueen\",\"donatella_versace\",\"karl_lagerfeld\",\"yves_saint_laurent\"]\n",
    "class_labels = [x.replace('_',' ') for x in class_labels]\n",
    "\n",
    "n_train = len(train_metadata)\n",
    "n_test = len(test_metadata)\n",
    "n_val = len(val_metadata)\n",
    "n_all = n_train + n_test + n_val\n",
    "\n",
    "all_classes = torch.empty(n_all, dtype=torch.int)\n",
    "all_images = [None]*n_all\n",
    "for i,meta in enumerate((*train_metadata, *test_metadata, *val_metadata)):\n",
    "    all_classes[i] = meta['label']\n",
    "    all_images[i] = torchvision.io.read_image(str(img_root / meta['file_path'].replace('_pure','')))\n",
    "    all_images[i] = pad_image(torchvision.transforms.functional.resize(all_images[i], 512, antialias=True))"
   ]
  },
  {
   "cell_type": "code",
   "execution_count": 6,
   "id": "a0237e2a-2f03-4456-8bf8-9e90ff44cb73",
   "metadata": {},
   "outputs": [],
   "source": [
    "n_classes = all_classes.max() + 1"
   ]
  },
  {
   "cell_type": "code",
   "execution_count": 7,
   "id": "26bd2456-e055-419b-9f70-c1bc8bdda531",
   "metadata": {},
   "outputs": [],
   "source": [
    "from resnet_model import resnet_model"
   ]
  },
  {
   "cell_type": "code",
   "execution_count": 8,
   "id": "9877fb85-1a67-4df9-923d-803474b4dc7f",
   "metadata": {},
   "outputs": [
    {
     "name": "stderr",
     "output_type": "stream",
     "text": [
      "/home/sentr/bin/miniconda/envs/gpytorch/lib/python3.11/site-packages/torchvision/models/_utils.py:208: UserWarning: The parameter 'pretrained' is deprecated since 0.13 and may be removed in the future, please use 'weights' instead.\n",
      "  warnings.warn(\n",
      "/home/sentr/bin/miniconda/envs/gpytorch/lib/python3.11/site-packages/torchvision/models/_utils.py:223: UserWarning: Arguments other than a weight enum or `None` for 'weights' are deprecated since 0.13 and may be removed in the future. The current behavior is equivalent to passing `weights=ResNet18_Weights.IMAGENET1K_V1`. You can also use `weights=ResNet18_Weights.DEFAULT` to get the most up-to-date weights.\n",
      "  warnings.warn(msg)\n"
     ]
    },
    {
     "data": {
      "text/plain": [
       "<All keys matched successfully>"
      ]
     },
     "execution_count": 8,
     "metadata": {},
     "output_type": "execute_result"
    }
   ],
   "source": [
    "resnet_extractor = resnet_model(5,backbone=\"resnet18\")\n",
    "checkpoint = torch.load('results/fashion_designers.3layer.bsz_128sz_224.sgd0.002/best_model.pt', map_location=device)\n",
    "resnet_extractor.load_state_dict(checkpoint['state_dict'])"
   ]
  },
  {
   "cell_type": "code",
   "execution_count": 9,
   "id": "45ad8abd-931f-4074-927e-a3d2c983cf42",
   "metadata": {},
   "outputs": [],
   "source": [
    "for p in resnet_extractor.parameters():\n",
    "    p.requires_grad = False"
   ]
  },
  {
   "cell_type": "code",
   "execution_count": 10,
   "id": "bd22b10c-6ce4-497e-a3ea-d7314c643c52",
   "metadata": {},
   "outputs": [
    {
     "name": "stderr",
     "output_type": "stream",
     "text": [
      "/home/sentr/bin/miniconda/envs/gpytorch/lib/python3.11/site-packages/torchvision/transforms/functional.py:1603: UserWarning: The default value of the antialias parameter of all the resizing transforms (Resize(), RandomResizedCrop(), etc.) will change from None to True in v0.17, in order to be consistent across the PIL and Tensor backends. To suppress this warning, directly pass antialias=True (recommended, future default), antialias=None (current default, which means False for Tensors and True for PIL), or antialias=False (only works on Tensors - PIL will still use antialiasing). This also applies if you are using the inference transforms from the models weights: update the call to weights.transforms(antialias=True).\n",
      "  warnings.warn(\n"
     ]
    }
   ],
   "source": [
    "# Define resnet feature extractor\n",
    "resnet_input_transform = torchvision.models.ResNet18_Weights.DEFAULT.transforms()\n",
    "crop_size = resnet_input_transform.crop_size[0]\n",
    "\n",
    "all_data = torch.empty(n_all, 3, crop_size, crop_size).to(device)\n",
    "for i in range(n_all):\n",
    "    all_data[i] = resnet_input_transform(all_images[i])"
   ]
  },
  {
   "cell_type": "code",
   "execution_count": 11,
   "id": "f81251be-514f-4ed3-a3c7-b68abd971300",
   "metadata": {},
   "outputs": [],
   "source": [
    "all_embeddings = resnet_extractor.backbone(all_data)"
   ]
  },
  {
   "cell_type": "markdown",
   "id": "9ca8336d-452c-4fbe-b842-a0b52448cb73",
   "metadata": {},
   "source": [
    "# Split train/test"
   ]
  },
  {
   "cell_type": "code",
   "execution_count": 19,
   "id": "d2e72864-21ef-42ea-99f9-c5215c985b06",
   "metadata": {},
   "outputs": [],
   "source": [
    "kfold = sklearn.model_selection.ShuffleSplit(n_splits=1, random_state=19960111)\n",
    "train_idx, test_idx = next(kfold.split(np.empty(len(all_classes)), all_classes))"
   ]
  },
  {
   "cell_type": "code",
   "execution_count": 21,
   "id": "8ff344b8-64cd-448f-9848-452b71017b13",
   "metadata": {},
   "outputs": [],
   "source": [
    "train_classes = all_classes[train_idx]\n",
    "train_embeddings = all_embeddings[train_idx]\n",
    "\n",
    "test_classes = all_classes[test_idx]\n",
    "test_embeddings = all_embeddings[test_idx]"
   ]
  },
  {
   "cell_type": "code",
   "execution_count": 22,
   "id": "0317f799-611d-4d60-9aa6-79f311871d11",
   "metadata": {},
   "outputs": [],
   "source": [
    "likelihood = gpytorch.likelihoods.DirichletClassificationLikelihood(train_classes.long(), learn_additional_noise=True)"
   ]
  },
  {
   "cell_type": "code",
   "execution_count": 28,
   "id": "c3481844-3726-4abc-9786-8cdfab208712",
   "metadata": {},
   "outputs": [],
   "source": [
    "train_transformed_targets = likelihood.transformed_targets.t()"
   ]
  },
  {
   "cell_type": "code",
   "execution_count": 29,
   "id": "911e5a85-2d53-41fb-8d31-ce7e661046da",
   "metadata": {},
   "outputs": [],
   "source": [
    "train_dataset = torch.utils.data.TensorDataset(train_embeddings, train_transformed_targets)\n",
    "train_loader = torch.utils.data.DataLoader(train_dataset, batch_size=1024, shuffle=True)"
   ]
  },
  {
   "cell_type": "markdown",
   "id": "24c23f37-bd74-4e0e-905e-21b47e672287",
   "metadata": {},
   "source": [
    "# Define and train GP"
   ]
  },
  {
   "cell_type": "code",
   "execution_count": 80,
   "id": "553a50be-262d-4ed2-99c0-aefcd7c19890",
   "metadata": {},
   "outputs": [],
   "source": [
    "class DirichletGPModel(gpytorch.models.ApproximateGP):\n",
    "    def __init__(self, num_inducing, num_classes, input_dim, latent_dim):\n",
    "        self.batch_shape = torch.Size([num_classes])\n",
    "        self.inducing_inputs = torch.randn(num_classes, num_inducing, latent_dim)\n",
    "        variational_distribution = gpytorch.variational.CholeskyVariationalDistribution(num_inducing, batch_shape=self.batch_shape)\n",
    "        variational_strategy = gpytorch.variational.VariationalStrategy(self, self.inducing_inputs, variational_distribution, learn_inducing_locations=True)\n",
    "        super().__init__(variational_strategy)\n",
    "        self.mean_module = gpytorch.means.ConstantMean(batch_shape=self.batch_shape)\n",
    "        self.covar_module = gpytorch.kernels.ScaleKernel(\n",
    "            gpytorch.kernels.RBFKernel(batch_shape=self.batch_shape),\n",
    "            batch_shape=self.batch_shape,\n",
    "        )\n",
    "        self.scaler = gpytorch.utils.grid.ScaleToBounds(-1,1)\n",
    "        self.fc = torch.nn.Linear(input_dim,latent_dim)\n",
    "        torch.nn.init.xavier_uniform_(self.fc.weight)\n",
    "\n",
    "    def transform(self, x):\n",
    "        x = self.fc(x)\n",
    "        x = self.scaler(x)\n",
    "        return x\n",
    "\n",
    "    def forward(self, x):\n",
    "        mean_x = self.mean_module(x)\n",
    "        covar_x = self.covar_module(x)\n",
    "        return gpytorch.distributions.MultivariateNormal(mean_x, covar_x)\n",
    "\n",
    "    def __call__(self, inputs, prior: bool = False, **kwargs):\n",
    "        if inputs is not None and inputs.dim() == 1:\n",
    "            inputs = inputs.unsqueeze(-1)\n",
    "        if inputs is not None:\n",
    "            inputs = self.transform(inputs)\n",
    "        return self.variational_strategy(inputs, prior=prior, **kwargs)\n",
    "\n",
    "    def embedding_posterior(self, z):\n",
    "        '''Compute the posterior over z = self.transform(x)'''\n",
    "        return self.variational_strategy(z, prior=False)"
   ]
  },
  {
   "cell_type": "code",
   "execution_count": 88,
   "id": "93ec2af0-2efe-46dc-83b6-b13bf0416192",
   "metadata": {},
   "outputs": [],
   "source": [
    "optimization_trace = list()\n",
    "torch.manual_seed(0)\n",
    "model = DirichletGPModel(\n",
    "    num_inducing=30,\n",
    "    input_dim=train_embeddings.shape[1],\n",
    "    num_classes=likelihood.num_classes,\n",
    "    latent_dim=5\n",
    ")\n",
    "\n",
    "# Our loss object. We're using the VariationalELBO\n",
    "mll = gpytorch.mlls.VariationalELBO(likelihood, model, num_data=train_classes.size(0))\n",
    "mll.train()\n",
    "\n",
    "num_epochs = 100\n",
    "optimizer = torch.optim.Adam(mll.parameters(), lr=0.01)\n",
    "for i in range(num_epochs):\n",
    "    for x_batch, y_batch in train_loader:\n",
    "        optimizer.zero_grad()\n",
    "        output = model(x_batch)\n",
    "        loss = -mll(output, y_batch.t()).sum(dim=0)\n",
    "        optimization_trace.append(loss.item())\n",
    "        loss.backward()\n",
    "        optimizer.step()"
   ]
  },
  {
   "cell_type": "code",
   "execution_count": 89,
   "id": "de1d8068-7650-443d-b7fe-ba1cce69419b",
   "metadata": {},
   "outputs": [
    {
     "data": {
      "image/png": "[encoded data removed]",
      "text/plain": [
       "<Figure size 1000x200 with 1 Axes>"
      ]
     },
     "metadata": {},
     "output_type": "display_data"
    }
   ],
   "source": [
    "f,ax = plt.subplots(1,1,constrained_layout=True,figsize=(10,2*1), sharex=True)\n",
    "ax.plot(optimization_trace)\n",
    "ax.set_ylabel('Marginal log-lik');\n",
    "ax.set_xlabel('Steps');\n",
    "plt.show(f);plt.close(f)\n",
    "# print(optimization_trace[-1].status, optimization_trace[-1].message)"
   ]
  },
  {
   "cell_type": "markdown",
   "id": "912e6637-4f98-4eab-981a-c439d754acbe",
   "metadata": {},
   "source": [
    "## Metrics"
   ]
  },
  {
   "cell_type": "code",
   "execution_count": 90,
   "id": "10a41479-ece1-4766-a580-3a1314e8824c",
   "metadata": {},
   "outputs": [],
   "source": [
    "metrics = pd.Series(index=['acc','auc'])"
   ]
  },
  {
   "cell_type": "code",
   "execution_count": 91,
   "id": "d3e6cb0a-0adf-4372-8889-2bd8f385f9c7",
   "metadata": {},
   "outputs": [],
   "source": [
    "test_dataset = torch.utils.data.TensorDataset(test_embeddings, test_classes)\n",
    "test_loader = torch.utils.data.DataLoader(test_dataset, batch_size=1024, shuffle=False)"
   ]
  },
  {
   "cell_type": "code",
   "execution_count": 92,
   "id": "1d11b360-c571-47df-9c68-d2b6a22e2620",
   "metadata": {},
   "outputs": [
    {
     "data": {
      "text/plain": [
       "acc    0.749077\n",
       "auc    0.914136\n",
       "dtype: float64"
      ]
     },
     "metadata": {},
     "output_type": "display_data"
    }
   ],
   "source": [
    "n_plots = 1\n",
    "n_cols = 5\n",
    "n_rows = int(np.ceil(n_plots / n_cols))\n",
    "\n",
    "model.eval()\n",
    "test_pred_classes = torch.empty(len(test_classes), dtype=torch.int64)\n",
    "test_pred_probabilities = torch.empty(n_classes, len(test_classes), dtype=torch.float32)\n",
    "with torch.no_grad():\n",
    "    for i, (x_batch, y_batch) in enumerate(test_loader):\n",
    "        j = (i*test_loader.batch_size)\n",
    "        test_pred_dist = model(x_batch)\n",
    "\n",
    "        test_pred_samples = test_pred_dist.sample(torch.Size((256,))).exp()\n",
    "        test_probabilities = (test_pred_samples / test_pred_samples.sum(1, keepdim=True)).mean(0)\n",
    "        test_pred_classes[j:j+len(x_batch)] = torch.argmax(test_probabilities,dim=0,keepdim=False)\n",
    "        test_pred_probabilities[:,j:j+len(x_batch)] = test_probabilities\n",
    "\n",
    "acc = sklearn.metrics.accuracy_score(test_classes, test_pred_class)\n",
    "auc = sklearn.metrics.roc_auc_score(test_classes,test_pred_probabilities.T,multi_class=\"ovo\")\n",
    "metrics.at['acc'] = acc\n",
    "metrics.at['auc'] = auc\n",
    "display(metrics)"
   ]
  }
 ],
 "metadata": {
  "kernelspec": {
   "display_name": "Python [conda env:sd_automatic111] *",
   "language": "python",
   "name": "conda-env-sd_automatic111-py"
  },
  "language_info": {
   "codemirror_mode": {
    "name": "ipython",
    "version": 3
   },
   "file_extension": ".py",
   "mimetype": "text/x-python",
   "name": "python",
   "nbconvert_exporter": "python",
   "pygments_lexer": "ipython3",
   "version": "3.10.12"
  }
 },
 "nbformat": 4,
 "nbformat_minor": 5
}
