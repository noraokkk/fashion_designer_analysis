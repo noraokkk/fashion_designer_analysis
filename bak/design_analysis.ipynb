{
 "cells": [
  {
   "cell_type": "code",
   "execution_count": 1,
   "id": "081da43d",
   "metadata": {},
   "outputs": [],
   "source": [
    "import torch\n",
    "import argparse\n",
    "from config_args_gp import get_args\n",
    "import util_tool.evaluate as evaluate\n",
    "import util_tool.logger as logger\n",
    "from optim_schedule import WarmupLinearSchedule\n",
    "from run_epoch_gp import run_epoch, run_epoch_test\n",
    "import yaml\n",
    "#personality\n",
    "from dataset import load_dataset\n",
    "from gp_layer import DirichletClassificationLikelihood\n",
    "from gp_layer import ResnetExtractor, DirichletGPModel\n",
    "import gpytorch\n",
    "import botorch\n",
    "import matplotlib.pyplot as plt\n",
    "import numpy as np\n",
    "from resnet_model import resnet_model\n",
    "import torchvision"
   ]
  },
  {
   "cell_type": "markdown",
   "id": "81862dff",
   "metadata": {},
   "source": [
    "# load the dataset"
   ]
  },
  {
   "cell_type": "code",
   "execution_count": 2,
   "id": "2d5277ac",
   "metadata": {},
   "outputs": [
    {
     "name": "stdout",
     "output_type": "stream",
     "text": [
      "Labels: 5\n",
      "cuda:0\n"
     ]
    }
   ],
   "source": [
    "args = get_args(argparse.ArgumentParser())\n",
    "device = torch.device(\"cuda:0\" if torch.cuda.is_available() else \"cpu\")\n",
    "# device = \"cpu\"\n",
    "args.device = device\n",
    "torch.manual_seed(0)\n",
    "class_labels = [\"alexander_mcqueen\", \"donatella_versace\", \"john_galliano\", \"karl_lagerfeld\", \"yves_saint_laurent\"]\n",
    "# class_labels = [\"alexander_mcqueen\",\"donatella_versace\",\"karl_lagerfeld\",\"yves_saint_laurent\"]\n",
    "\n",
    "\n",
    "train_loader, val_loader, test_loader = load_dataset(args)\n",
    "print('Labels: {}'.format(args.num_classes))\n",
    "\n",
    "print(args.device)"
   ]
  },
  {
   "cell_type": "markdown",
   "id": "14d92de4",
   "metadata": {},
   "source": [
    "# load the resnet model"
   ]
  },
  {
   "cell_type": "code",
   "execution_count": 3,
   "id": "1cd0b20e",
   "metadata": {},
   "outputs": [],
   "source": [
    "def load_saved_model(saved_model_name,model,likelihood):\n",
    "    checkpoint = torch.load(saved_model_name,map_location='cuda:0')\n",
    "    likelihood.load_state_dict(checkpoint['likelihood_state_dict'])\n",
    "    model.load_state_dict(checkpoint['state_dict'])\n",
    "    return model, likelihood"
   ]
  },
  {
   "cell_type": "code",
   "execution_count": 4,
   "id": "7bb5497f",
   "metadata": {},
   "outputs": [
    {
     "name": "stdout",
     "output_type": "stream",
     "text": [
      "loading resnet weight from:results/fashion_designers_c5.3layer.bsz_128sz_224.sgd0.002/best_model.pt\n"
     ]
    },
    {
     "data": {
      "text/plain": [
       "<All keys matched successfully>"
      ]
     },
     "execution_count": 4,
     "metadata": {},
     "output_type": "execute_result"
    }
   ],
   "source": [
    "print(\"loading resnet weight from:{}\".format(args.saved_backbone_name))\n",
    "resnet_extractor = resnet_model(args.num_classes,backbone=\"resnet18\")\n",
    "resnet_extractor = resnet_extractor.to(args.device)\n",
    "checkpoint = torch.load(args.saved_backbone_name, map_location=device)\n",
    "resnet_extractor.load_state_dict(checkpoint['state_dict'])"
   ]
  },
  {
   "cell_type": "markdown",
   "id": "93b2d70f",
   "metadata": {},
   "source": [
    "# Freeze the backbone"
   ]
  },
  {
   "cell_type": "code",
   "execution_count": 5,
   "id": "d84ebd1c",
   "metadata": {},
   "outputs": [],
   "source": [
    "if args.freeze_backbone:\n",
    "    for name, p in resnet_extractor.named_parameters():\n",
    "#         print(name)\n",
    "        p.requires_grad = False"
   ]
  },
  {
   "cell_type": "code",
   "execution_count": 6,
   "id": "22a2575f",
   "metadata": {},
   "outputs": [],
   "source": [
    "resnet_extractor.fc = torch.nn.Identity()"
   ]
  },
  {
   "cell_type": "markdown",
   "id": "b4bc5c4b",
   "metadata": {},
   "source": [
    "# get the embeddings from backbone"
   ]
  },
  {
   "cell_type": "code",
   "execution_count": 7,
   "id": "d153e589",
   "metadata": {},
   "outputs": [
    {
     "name": "stdout",
     "output_type": "stream",
     "text": [
      "0/60\n",
      "10/60\n",
      "20/60\n",
      "30/60\n",
      "40/60\n",
      "50/60\n",
      "0/17\n",
      "10/17\n"
     ]
    }
   ],
   "source": [
    "train_embeddings = []\n",
    "train_classes = []\n",
    "for i, (image, target) in enumerate(train_loader):\n",
    "    if i%10==0:\n",
    "        print(\"{}/{}\".format(i,int(len(train_loader.dataset)/args.batch_size)+1))\n",
    "    image = image.to(args.device)\n",
    "    target = target.to(args.device)\n",
    "    train_embeddings.append(resnet_extractor(image)) #n*5\n",
    "#     train_embeddings.append(resnet_extractor.backbone(image)) #n*512\n",
    "    train_classes.append(target)\n",
    "\n",
    "train_embeddings = torch.cat(train_embeddings,dim=0)\n",
    "train_classes = torch.cat(train_classes,dim=0)\n",
    "\n",
    "test_embeddings = []\n",
    "test_classes = []\n",
    "n_test = len(test_loader.dataset)\n",
    "for i, (image, target) in enumerate(test_loader):\n",
    "    if i%10==0:\n",
    "        print(\"{}/{}\".format(i,int(len(test_loader.dataset)/args.batch_size)+1))\n",
    "    image = image.to(args.device)\n",
    "    target = target.to(args.device)\n",
    "    test_embeddings.append(resnet_extractor(image))\n",
    "#     test_embeddings.append(resnet_extractor.backbone(image))\n",
    "    test_classes.append(target)\n",
    "test_embeddings = torch.cat(test_embeddings,dim=0)\n",
    "test_classes = torch.cat(test_classes,dim=0)"
   ]
  },
  {
   "cell_type": "markdown",
   "id": "d13574e0",
   "metadata": {},
   "source": [
    "## resnet results"
   ]
  },
  {
   "cell_type": "code",
   "execution_count": 9,
   "id": "688e214c",
   "metadata": {},
   "outputs": [
    {
     "name": "stdout",
     "output_type": "stream",
     "text": [
      "torch.Size([541, 512])\n",
      "torch.Size([541])\n"
     ]
    },
    {
     "ename": "ValueError",
     "evalue": "The number of FixedLocator locations (261), usually from a call to set_ticks, does not match the number of labels (5).",
     "output_type": "error",
     "traceback": [
      "\u001b[1;31m---------------------------------------------------------------------------\u001b[0m",
      "\u001b[1;31mValueError\u001b[0m                                Traceback (most recent call last)",
      "\u001b[1;32me:\\coding\\fashion_designer_analysis\\design_analysis.ipynb Cell 13\u001b[0m line \u001b[0;36m1\n\u001b[0;32m      <a href='vscode-notebook-cell:/e%3A/coding/fashion_designer_analysis/design_analysis.ipynb#X15sZmlsZQ%3D%3D?line=5'>6</a>\u001b[0m aa \u001b[39m=\u001b[39m torch\u001b[39m.\u001b[39msoftmax(test_embeddings,dim\u001b[39m=\u001b[39m\u001b[39m1\u001b[39m)\n\u001b[0;32m      <a href='vscode-notebook-cell:/e%3A/coding/fashion_designer_analysis/design_analysis.ipynb#X15sZmlsZQ%3D%3D?line=6'>7</a>\u001b[0m torch\u001b[39m.\u001b[39msum(aa[\u001b[39m1\u001b[39m,:])\n\u001b[0;32m      <a href='vscode-notebook-cell:/e%3A/coding/fashion_designer_analysis/design_analysis.ipynb#X15sZmlsZQ%3D%3D?line=8'>9</a>\u001b[0m sklearn\u001b[39m.\u001b[39;49mmetrics\u001b[39m.\u001b[39;49mConfusionMatrixDisplay(\n\u001b[0;32m     <a href='vscode-notebook-cell:/e%3A/coding/fashion_designer_analysis/design_analysis.ipynb#X15sZmlsZQ%3D%3D?line=9'>10</a>\u001b[0m     sklearn\u001b[39m.\u001b[39;49mmetrics\u001b[39m.\u001b[39;49mconfusion_matrix(test_classes\u001b[39m.\u001b[39;49mdetach()\u001b[39m.\u001b[39;49mcpu(), pred_classes_res\u001b[39m.\u001b[39;49mdetach()\u001b[39m.\u001b[39;49mcpu()),\n\u001b[0;32m     <a href='vscode-notebook-cell:/e%3A/coding/fashion_designer_analysis/design_analysis.ipynb#X15sZmlsZQ%3D%3D?line=10'>11</a>\u001b[0m     display_labels\u001b[39m=\u001b[39;49mclass_labels\n\u001b[1;32m---> <a href='vscode-notebook-cell:/e%3A/coding/fashion_designer_analysis/design_analysis.ipynb#X15sZmlsZQ%3D%3D?line=11'>12</a>\u001b[0m )\u001b[39m.\u001b[39;49mplot()\n",
      "File \u001b[1;32mE:\\Users\\nora\\anaconda3\\envs\\deep_gp\\lib\\site-packages\\sklearn\\metrics\\_plot\\confusion_matrix.py:181\u001b[0m, in \u001b[0;36mConfusionMatrixDisplay.plot\u001b[1;34m(self, include_values, cmap, xticks_rotation, values_format, ax, colorbar, im_kw, text_kw)\u001b[0m\n\u001b[0;32m    179\u001b[0m \u001b[39mif\u001b[39;00m colorbar:\n\u001b[0;32m    180\u001b[0m     fig\u001b[39m.\u001b[39mcolorbar(\u001b[39mself\u001b[39m\u001b[39m.\u001b[39mim_, ax\u001b[39m=\u001b[39max)\n\u001b[1;32m--> 181\u001b[0m ax\u001b[39m.\u001b[39;49mset(\n\u001b[0;32m    182\u001b[0m     xticks\u001b[39m=\u001b[39;49mnp\u001b[39m.\u001b[39;49marange(n_classes),\n\u001b[0;32m    183\u001b[0m     yticks\u001b[39m=\u001b[39;49mnp\u001b[39m.\u001b[39;49marange(n_classes),\n\u001b[0;32m    184\u001b[0m     xticklabels\u001b[39m=\u001b[39;49mdisplay_labels,\n\u001b[0;32m    185\u001b[0m     yticklabels\u001b[39m=\u001b[39;49mdisplay_labels,\n\u001b[0;32m    186\u001b[0m     ylabel\u001b[39m=\u001b[39;49m\u001b[39m\"\u001b[39;49m\u001b[39mTrue label\u001b[39;49m\u001b[39m\"\u001b[39;49m,\n\u001b[0;32m    187\u001b[0m     xlabel\u001b[39m=\u001b[39;49m\u001b[39m\"\u001b[39;49m\u001b[39mPredicted label\u001b[39;49m\u001b[39m\"\u001b[39;49m,\n\u001b[0;32m    188\u001b[0m )\n\u001b[0;32m    190\u001b[0m ax\u001b[39m.\u001b[39mset_ylim((n_classes \u001b[39m-\u001b[39m \u001b[39m0.5\u001b[39m, \u001b[39m-\u001b[39m\u001b[39m0.5\u001b[39m))\n\u001b[0;32m    191\u001b[0m plt\u001b[39m.\u001b[39msetp(ax\u001b[39m.\u001b[39mget_xticklabels(), rotation\u001b[39m=\u001b[39mxticks_rotation)\n",
      "File \u001b[1;32mE:\\Users\\nora\\anaconda3\\envs\\deep_gp\\lib\\site-packages\\matplotlib\\artist.py:147\u001b[0m, in \u001b[0;36mArtist.__init_subclass__.<locals>.<lambda>\u001b[1;34m(self, **kwargs)\u001b[0m\n\u001b[0;32m    139\u001b[0m \u001b[39mif\u001b[39;00m \u001b[39mnot\u001b[39;00m \u001b[39mhasattr\u001b[39m(\u001b[39mcls\u001b[39m\u001b[39m.\u001b[39mset, \u001b[39m'\u001b[39m\u001b[39m_autogenerated_signature\u001b[39m\u001b[39m'\u001b[39m):\n\u001b[0;32m    140\u001b[0m     \u001b[39m# Don't overwrite cls.set if the subclass or one of its parents\u001b[39;00m\n\u001b[0;32m    141\u001b[0m     \u001b[39m# has defined a set method set itself.\u001b[39;00m\n\u001b[0;32m    142\u001b[0m     \u001b[39m# If there was no explicit definition, cls.set is inherited from\u001b[39;00m\n\u001b[0;32m    143\u001b[0m     \u001b[39m# the hierarchy of auto-generated set methods, which hold the\u001b[39;00m\n\u001b[0;32m    144\u001b[0m     \u001b[39m# flag _autogenerated_signature.\u001b[39;00m\n\u001b[0;32m    145\u001b[0m     \u001b[39mreturn\u001b[39;00m\n\u001b[1;32m--> 147\u001b[0m \u001b[39mcls\u001b[39m\u001b[39m.\u001b[39mset \u001b[39m=\u001b[39m \u001b[39mlambda\u001b[39;00m \u001b[39mself\u001b[39m, \u001b[39m*\u001b[39m\u001b[39m*\u001b[39mkwargs: Artist\u001b[39m.\u001b[39mset(\u001b[39mself\u001b[39m, \u001b[39m*\u001b[39m\u001b[39m*\u001b[39mkwargs)\n\u001b[0;32m    148\u001b[0m \u001b[39mcls\u001b[39m\u001b[39m.\u001b[39mset\u001b[39m.\u001b[39m\u001b[39m__name__\u001b[39m \u001b[39m=\u001b[39m \u001b[39m\"\u001b[39m\u001b[39mset\u001b[39m\u001b[39m\"\u001b[39m\n\u001b[0;32m    149\u001b[0m \u001b[39mcls\u001b[39m\u001b[39m.\u001b[39mset\u001b[39m.\u001b[39m\u001b[39m__qualname__\u001b[39m \u001b[39m=\u001b[39m \u001b[39mf\u001b[39m\u001b[39m\"\u001b[39m\u001b[39m{\u001b[39;00m\u001b[39mcls\u001b[39m\u001b[39m.\u001b[39m\u001b[39m__qualname__\u001b[39m\u001b[39m}\u001b[39;00m\u001b[39m.set\u001b[39m\u001b[39m\"\u001b[39m\n",
      "File \u001b[1;32mE:\\Users\\nora\\anaconda3\\envs\\deep_gp\\lib\\site-packages\\matplotlib\\artist.py:1227\u001b[0m, in \u001b[0;36mArtist.set\u001b[1;34m(self, **kwargs)\u001b[0m\n\u001b[0;32m   1223\u001b[0m \u001b[39mdef\u001b[39;00m \u001b[39mset\u001b[39m(\u001b[39mself\u001b[39m, \u001b[39m*\u001b[39m\u001b[39m*\u001b[39mkwargs):\n\u001b[0;32m   1224\u001b[0m     \u001b[39m# docstring and signature are auto-generated via\u001b[39;00m\n\u001b[0;32m   1225\u001b[0m     \u001b[39m# Artist._update_set_signature_and_docstring() at the end of the\u001b[39;00m\n\u001b[0;32m   1226\u001b[0m     \u001b[39m# module.\u001b[39;00m\n\u001b[1;32m-> 1227\u001b[0m     \u001b[39mreturn\u001b[39;00m \u001b[39mself\u001b[39;49m\u001b[39m.\u001b[39;49m_internal_update(cbook\u001b[39m.\u001b[39;49mnormalize_kwargs(kwargs, \u001b[39mself\u001b[39;49m))\n",
      "File \u001b[1;32mE:\\Users\\nora\\anaconda3\\envs\\deep_gp\\lib\\site-packages\\matplotlib\\artist.py:1219\u001b[0m, in \u001b[0;36mArtist._internal_update\u001b[1;34m(self, kwargs)\u001b[0m\n\u001b[0;32m   1212\u001b[0m \u001b[39mdef\u001b[39;00m \u001b[39m_internal_update\u001b[39m(\u001b[39mself\u001b[39m, kwargs):\n\u001b[0;32m   1213\u001b[0m \u001b[39m    \u001b[39m\u001b[39m\"\"\"\u001b[39;00m\n\u001b[0;32m   1214\u001b[0m \u001b[39m    Update artist properties without prenormalizing them, but generating\u001b[39;00m\n\u001b[0;32m   1215\u001b[0m \u001b[39m    errors as if calling `set`.\u001b[39;00m\n\u001b[0;32m   1216\u001b[0m \n\u001b[0;32m   1217\u001b[0m \u001b[39m    The lack of prenormalization is to maintain backcompatibility.\u001b[39;00m\n\u001b[0;32m   1218\u001b[0m \u001b[39m    \"\"\"\u001b[39;00m\n\u001b[1;32m-> 1219\u001b[0m     \u001b[39mreturn\u001b[39;00m \u001b[39mself\u001b[39;49m\u001b[39m.\u001b[39;49m_update_props(\n\u001b[0;32m   1220\u001b[0m         kwargs, \u001b[39m\"\u001b[39;49m\u001b[39m{cls.__name__}\u001b[39;49;00m\u001b[39m.set() got an unexpected keyword argument \u001b[39;49m\u001b[39m\"\u001b[39;49m\n\u001b[0;32m   1221\u001b[0m         \u001b[39m\"\u001b[39;49m\u001b[39m{prop_name!r}\u001b[39;49;00m\u001b[39m\"\u001b[39;49m)\n",
      "File \u001b[1;32mE:\\Users\\nora\\anaconda3\\envs\\deep_gp\\lib\\site-packages\\matplotlib\\artist.py:1195\u001b[0m, in \u001b[0;36mArtist._update_props\u001b[1;34m(self, props, errfmt)\u001b[0m\n\u001b[0;32m   1192\u001b[0m             \u001b[39mif\u001b[39;00m \u001b[39mnot\u001b[39;00m \u001b[39mcallable\u001b[39m(func):\n\u001b[0;32m   1193\u001b[0m                 \u001b[39mraise\u001b[39;00m \u001b[39mAttributeError\u001b[39;00m(\n\u001b[0;32m   1194\u001b[0m                     errfmt\u001b[39m.\u001b[39mformat(\u001b[39mcls\u001b[39m\u001b[39m=\u001b[39m\u001b[39mtype\u001b[39m(\u001b[39mself\u001b[39m), prop_name\u001b[39m=\u001b[39mk))\n\u001b[1;32m-> 1195\u001b[0m             ret\u001b[39m.\u001b[39mappend(func(v))\n\u001b[0;32m   1196\u001b[0m \u001b[39mif\u001b[39;00m ret:\n\u001b[0;32m   1197\u001b[0m     \u001b[39mself\u001b[39m\u001b[39m.\u001b[39mpchanged()\n",
      "File \u001b[1;32mE:\\Users\\nora\\anaconda3\\envs\\deep_gp\\lib\\site-packages\\matplotlib\\axes\\_base.py:73\u001b[0m, in \u001b[0;36m_axis_method_wrapper.__set_name__.<locals>.wrapper\u001b[1;34m(self, *args, **kwargs)\u001b[0m\n\u001b[0;32m     72\u001b[0m \u001b[39mdef\u001b[39;00m \u001b[39mwrapper\u001b[39m(\u001b[39mself\u001b[39m, \u001b[39m*\u001b[39margs, \u001b[39m*\u001b[39m\u001b[39m*\u001b[39mkwargs):\n\u001b[1;32m---> 73\u001b[0m     \u001b[39mreturn\u001b[39;00m get_method(\u001b[39mself\u001b[39m)(\u001b[39m*\u001b[39margs, \u001b[39m*\u001b[39m\u001b[39m*\u001b[39mkwargs)\n",
      "File \u001b[1;32mE:\\Users\\nora\\anaconda3\\envs\\deep_gp\\lib\\site-packages\\matplotlib\\_api\\deprecation.py:297\u001b[0m, in \u001b[0;36mrename_parameter.<locals>.wrapper\u001b[1;34m(*args, **kwargs)\u001b[0m\n\u001b[0;32m    292\u001b[0m     warn_deprecated(\n\u001b[0;32m    293\u001b[0m         since, message\u001b[39m=\u001b[39m\u001b[39mf\u001b[39m\u001b[39m\"\u001b[39m\u001b[39mThe \u001b[39m\u001b[39m{\u001b[39;00mold\u001b[39m!r}\u001b[39;00m\u001b[39m parameter of \u001b[39m\u001b[39m{\u001b[39;00mfunc\u001b[39m.\u001b[39m\u001b[39m__name__\u001b[39m\u001b[39m}\u001b[39;00m\u001b[39m() \u001b[39m\u001b[39m\"\u001b[39m\n\u001b[0;32m    294\u001b[0m         \u001b[39mf\u001b[39m\u001b[39m\"\u001b[39m\u001b[39mhas been renamed \u001b[39m\u001b[39m{\u001b[39;00mnew\u001b[39m!r}\u001b[39;00m\u001b[39m since Matplotlib \u001b[39m\u001b[39m{\u001b[39;00msince\u001b[39m}\u001b[39;00m\u001b[39m; support \u001b[39m\u001b[39m\"\u001b[39m\n\u001b[0;32m    295\u001b[0m         \u001b[39mf\u001b[39m\u001b[39m\"\u001b[39m\u001b[39mfor the old name will be dropped %(removal)s.\u001b[39m\u001b[39m\"\u001b[39m)\n\u001b[0;32m    296\u001b[0m     kwargs[new] \u001b[39m=\u001b[39m kwargs\u001b[39m.\u001b[39mpop(old)\n\u001b[1;32m--> 297\u001b[0m \u001b[39mreturn\u001b[39;00m func(\u001b[39m*\u001b[39margs, \u001b[39m*\u001b[39m\u001b[39m*\u001b[39mkwargs)\n",
      "File \u001b[1;32mE:\\Users\\nora\\anaconda3\\envs\\deep_gp\\lib\\site-packages\\matplotlib\\axis.py:2025\u001b[0m, in \u001b[0;36mAxis.set_ticklabels\u001b[1;34m(self, labels, minor, fontdict, **kwargs)\u001b[0m\n\u001b[0;32m   2021\u001b[0m \u001b[39melif\u001b[39;00m \u001b[39misinstance\u001b[39m(locator, mticker\u001b[39m.\u001b[39mFixedLocator):\n\u001b[0;32m   2022\u001b[0m     \u001b[39m# Passing [] as a list of labels is often used as a way to\u001b[39;00m\n\u001b[0;32m   2023\u001b[0m     \u001b[39m# remove all tick labels, so only error for > 0 labels\u001b[39;00m\n\u001b[0;32m   2024\u001b[0m     \u001b[39mif\u001b[39;00m \u001b[39mlen\u001b[39m(locator\u001b[39m.\u001b[39mlocs) \u001b[39m!=\u001b[39m \u001b[39mlen\u001b[39m(labels) \u001b[39mand\u001b[39;00m \u001b[39mlen\u001b[39m(labels) \u001b[39m!=\u001b[39m \u001b[39m0\u001b[39m:\n\u001b[1;32m-> 2025\u001b[0m         \u001b[39mraise\u001b[39;00m \u001b[39mValueError\u001b[39;00m(\n\u001b[0;32m   2026\u001b[0m             \u001b[39m\"\u001b[39m\u001b[39mThe number of FixedLocator locations\u001b[39m\u001b[39m\"\u001b[39m\n\u001b[0;32m   2027\u001b[0m             \u001b[39mf\u001b[39m\u001b[39m\"\u001b[39m\u001b[39m (\u001b[39m\u001b[39m{\u001b[39;00m\u001b[39mlen\u001b[39m(locator\u001b[39m.\u001b[39mlocs)\u001b[39m}\u001b[39;00m\u001b[39m), usually from a call to\u001b[39m\u001b[39m\"\u001b[39m\n\u001b[0;32m   2028\u001b[0m             \u001b[39m\"\u001b[39m\u001b[39m set_ticks, does not match\u001b[39m\u001b[39m\"\u001b[39m\n\u001b[0;32m   2029\u001b[0m             \u001b[39mf\u001b[39m\u001b[39m\"\u001b[39m\u001b[39m the number of labels (\u001b[39m\u001b[39m{\u001b[39;00m\u001b[39mlen\u001b[39m(labels)\u001b[39m}\u001b[39;00m\u001b[39m).\u001b[39m\u001b[39m\"\u001b[39m)\n\u001b[0;32m   2030\u001b[0m     tickd \u001b[39m=\u001b[39m {loc: lab \u001b[39mfor\u001b[39;00m loc, lab \u001b[39min\u001b[39;00m \u001b[39mzip\u001b[39m(locator\u001b[39m.\u001b[39mlocs, labels)}\n\u001b[0;32m   2031\u001b[0m     func \u001b[39m=\u001b[39m functools\u001b[39m.\u001b[39mpartial(\u001b[39mself\u001b[39m\u001b[39m.\u001b[39m_format_with_dict, tickd)\n",
      "\u001b[1;31mValueError\u001b[0m: The number of FixedLocator locations (261), usually from a call to set_ticks, does not match the number of labels (5)."
     ]
    }
   ],
   "source": [
    "import sklearn\n",
    "test_embeddings_res = resnet_extractor.fc(test_embeddings)\n",
    "pred_classes_res = torch.argmax(test_embeddings_res,dim=1,keepdim=False)\n",
    "print(test_embeddings.shape)\n",
    "print(pred_classes_res.shape)\n",
    "aa = torch.softmax(test_embeddings,dim=1)\n",
    "torch.sum(aa[1,:])\n",
    "\n",
    "sklearn.metrics.ConfusionMatrixDisplay(\n",
    "    sklearn.metrics.confusion_matrix(test_classes.detach().cpu(), pred_classes_res.detach().cpu()),\n",
    "    display_labels=class_labels\n",
    ").plot()\n",
    "\n",
    "# print('ROC-AUC',np.round(sklearn.metrics.roc_auc_score(\n",
    "#     test_classes.detach().cpu(),\n",
    "#     torch.nn.functional.softmax(test_embeddings,dim=1).detach().cpu(),multi_class='ovr'\n",
    "# ),2))\n",
    "\n",
    "# print('Acc',np.round(sklearn.metrics.accuracy_score(\n",
    "#     test_classes.detach().cpu(),\n",
    "#     (torch.nn.functional.argmax(test_embeddings,dim=1,keepdim=False).detach().cpu())\n",
    "# )*100,2),'%')\n",
    "\n",
    "\n",
    "# correct = pred_classes_res.eq(test_classes.view_as(pred_classes_res)).cpu().sum()\n",
    "# print(correct/len(test_classes))\n",
    "\n",
    "# print(test_probabilities.t().shape)\n",
    "# pred = test_probabilities.t().argmax(-1)\n",
    "# correct = pred.eq(test_classes).cpu().sum()\n",
    "# acc = 100. * correct / float(len(test_loader.dataset))\n",
    "# print(acc)"
   ]
  },
  {
   "cell_type": "code",
   "execution_count": null,
   "id": "7bea763c",
   "metadata": {},
   "outputs": [
    {
     "ename": "NameError",
     "evalue": "name 'train_embeddings' is not defined",
     "output_type": "error",
     "traceback": [
      "\u001b[1;31m---------------------------------------------------------------------------\u001b[0m",
      "\u001b[1;31mNameError\u001b[0m                                 Traceback (most recent call last)",
      "Cell \u001b[1;32mIn[1], line 1\u001b[0m\n\u001b[1;32m----> 1\u001b[0m \u001b[43mtrain_embeddings\u001b[49m\u001b[38;5;241m.\u001b[39mshape\n",
      "\u001b[1;31mNameError\u001b[0m: name 'train_embeddings' is not defined"
     ]
    }
   ],
   "source": [
    "train_embeddings.shape"
   ]
  },
  {
   "cell_type": "markdown",
   "id": "d4a9be3d",
   "metadata": {},
   "source": [
    "# define likelihood and GP"
   ]
  },
  {
   "cell_type": "code",
   "execution_count": null,
   "id": "d6cff615",
   "metadata": {},
   "outputs": [
    {
     "ename": "NameError",
     "evalue": "name 'gpytorch' is not defined",
     "output_type": "error",
     "traceback": [
      "\u001b[1;31m---------------------------------------------------------------------------\u001b[0m",
      "\u001b[1;31mNameError\u001b[0m                                 Traceback (most recent call last)",
      "Cell \u001b[1;32mIn[2], line 1\u001b[0m\n\u001b[1;32m----> 1\u001b[0m likelihood \u001b[38;5;241m=\u001b[39m \u001b[43mgpytorch\u001b[49m\u001b[38;5;241m.\u001b[39mlikelihoods\u001b[38;5;241m.\u001b[39mDirichletClassificationLikelihood(train_classes\u001b[38;5;241m.\u001b[39mto(torch\u001b[38;5;241m.\u001b[39mint64), learn_additional_noise\u001b[38;5;241m=\u001b[39m\u001b[38;5;28;01mTrue\u001b[39;00m)\n\u001b[0;32m      2\u001b[0m model \u001b[38;5;241m=\u001b[39m DirichletGPModel(train_embeddings, likelihood\u001b[38;5;241m.\u001b[39mtransformed_targets, likelihood, num_classes\u001b[38;5;241m=\u001b[39mlikelihood\u001b[38;5;241m.\u001b[39mnum_classes)\n\u001b[0;32m      3\u001b[0m model \u001b[38;5;241m=\u001b[39m model\u001b[38;5;241m.\u001b[39mto(device)\n",
      "\u001b[1;31mNameError\u001b[0m: name 'gpytorch' is not defined"
     ]
    }
   ],
   "source": [
    "likelihood = gpytorch.likelihoods.DirichletClassificationLikelihood(train_classes.to(torch.int64), learn_additional_noise=True)\n",
    "model = DirichletGPModel(train_embeddings, likelihood.transformed_targets, likelihood, num_classes=likelihood.num_classes)\n",
    "model = model.to(device)\n",
    "likelihood = likelihood.to(device)\n",
    "mll = gpytorch.mlls.ExactMarginalLogLikelihood(likelihood, model)\n",
    "mll.train()"
   ]
  },
  {
   "cell_type": "markdown",
   "id": "82903002",
   "metadata": {},
   "source": [
    "## optimize GP"
   ]
  },
  {
   "cell_type": "code",
   "execution_count": null,
   "id": "e8ca344d",
   "metadata": {},
   "outputs": [
    {
     "name": "stdout",
     "output_type": "stream",
     "text": [
      "training GP\n"
     ]
    },
    {
     "ename": "NameError",
     "evalue": "name 'botorch' is not defined",
     "output_type": "error",
     "traceback": [
      "\u001b[1;31m---------------------------------------------------------------------------\u001b[0m",
      "\u001b[1;31mNameError\u001b[0m                                 Traceback (most recent call last)",
      "Cell \u001b[1;32mIn[3], line 3\u001b[0m\n\u001b[0;32m      1\u001b[0m \u001b[38;5;28mprint\u001b[39m(\u001b[38;5;124m\"\u001b[39m\u001b[38;5;124mtraining GP\u001b[39m\u001b[38;5;124m\"\u001b[39m)\n\u001b[0;32m      2\u001b[0m optimization_trace \u001b[38;5;241m=\u001b[39m []\n\u001b[1;32m----> 3\u001b[0m \u001b[43mbotorch\u001b[49m\u001b[38;5;241m.\u001b[39moptim\u001b[38;5;241m.\u001b[39mfit\u001b[38;5;241m.\u001b[39mfit_gpytorch_mll_torch(mll, step_limit\u001b[38;5;241m=\u001b[39m\u001b[38;5;241m1000\u001b[39m, optimizer\u001b[38;5;241m=\u001b[39m\u001b[38;5;28;01mlambda\u001b[39;00m p: torch\u001b[38;5;241m.\u001b[39moptim\u001b[38;5;241m.\u001b[39mAdam(p, lr\u001b[38;5;241m=\u001b[39m\u001b[38;5;241m0.01\u001b[39m), callback\u001b[38;5;241m=\u001b[39m\u001b[38;5;28;01mlambda\u001b[39;00m _,i: optimization_trace\u001b[38;5;241m.\u001b[39mappend(i))\n\u001b[0;32m      4\u001b[0m \u001b[38;5;28mprint\u001b[39m(\u001b[38;5;124m\"\u001b[39m\u001b[38;5;124mfinished\u001b[39m\u001b[38;5;124m\"\u001b[39m)\n",
      "\u001b[1;31mNameError\u001b[0m: name 'botorch' is not defined"
     ]
    }
   ],
   "source": [
    "print(\"training GP\")\n",
    "optimization_trace = []\n",
    "botorch.optim.fit.fit_gpytorch_mll_torch(mll, step_limit=1000, optimizer=lambda p: torch.optim.Adam(p, lr=0.01), callback=lambda _,i: optimization_trace.append(i))\n",
    "print(\"finished\")"
   ]
  },
  {
   "cell_type": "markdown",
   "id": "714e219a",
   "metadata": {},
   "source": [
    "## visualization"
   ]
  },
  {
   "cell_type": "code",
   "execution_count": null,
   "id": "ee95cc1f",
   "metadata": {},
   "outputs": [
    {
     "ename": "NameError",
     "evalue": "name 'plt' is not defined",
     "output_type": "error",
     "traceback": [
      "\u001b[1;31m---------------------------------------------------------------------------\u001b[0m",
      "\u001b[1;31mNameError\u001b[0m                                 Traceback (most recent call last)",
      "Cell \u001b[1;32mIn[4], line 1\u001b[0m\n\u001b[1;32m----> 1\u001b[0m f,ax \u001b[38;5;241m=\u001b[39m \u001b[43mplt\u001b[49m\u001b[38;5;241m.\u001b[39msubplots(\u001b[38;5;241m1\u001b[39m,\u001b[38;5;241m1\u001b[39m,tight_layout\u001b[38;5;241m=\u001b[39m\u001b[38;5;28;01mTrue\u001b[39;00m,figsize\u001b[38;5;241m=\u001b[39m(\u001b[38;5;241m10\u001b[39m,\u001b[38;5;241m3\u001b[39m))\n\u001b[0;32m      2\u001b[0m ax\u001b[38;5;241m.\u001b[39mplot([r\u001b[38;5;241m.\u001b[39mruntime \u001b[38;5;28;01mfor\u001b[39;00m r \u001b[38;5;129;01min\u001b[39;00m optimization_trace], [r\u001b[38;5;241m.\u001b[39mfval \u001b[38;5;28;01mfor\u001b[39;00m r \u001b[38;5;129;01min\u001b[39;00m optimization_trace])\n\u001b[0;32m      3\u001b[0m ax\u001b[38;5;241m.\u001b[39mset_ylabel(\u001b[38;5;124m'\u001b[39m\u001b[38;5;124mMarginal log-lik\u001b[39m\u001b[38;5;124m'\u001b[39m);ax\u001b[38;5;241m.\u001b[39mset_xlabel(\u001b[38;5;124m'\u001b[39m\u001b[38;5;124mSeconds\u001b[39m\u001b[38;5;124m'\u001b[39m);\n",
      "\u001b[1;31mNameError\u001b[0m: name 'plt' is not defined"
     ]
    }
   ],
   "source": [
    "f,ax = plt.subplots(1,1,tight_layout=True,figsize=(10,3))\n",
    "ax.plot([r.runtime for r in optimization_trace], [r.fval for r in optimization_trace])\n",
    "ax.set_ylabel('Marginal log-lik');ax.set_xlabel('Seconds');\n",
    "plt.show(f);plt.close(f)\n",
    "print(optimization_trace[-1].status, optimization_trace[-1].message)"
   ]
  },
  {
   "cell_type": "markdown",
   "id": "a0d0ffcc",
   "metadata": {},
   "source": [
    "## testing"
   ]
  },
  {
   "cell_type": "code",
   "execution_count": null,
   "id": "558424ce",
   "metadata": {},
   "outputs": [
    {
     "ename": "NameError",
     "evalue": "name 'model' is not defined",
     "output_type": "error",
     "traceback": [
      "\u001b[1;31m---------------------------------------------------------------------------\u001b[0m",
      "\u001b[1;31mNameError\u001b[0m                                 Traceback (most recent call last)",
      "Cell \u001b[1;32mIn[5], line 1\u001b[0m\n\u001b[1;32m----> 1\u001b[0m \u001b[43mmodel\u001b[49m\u001b[38;5;241m.\u001b[39meval()\n\u001b[0;32m      2\u001b[0m likelihood\u001b[38;5;241m.\u001b[39meval()\n\u001b[0;32m      3\u001b[0m \u001b[38;5;28;01mwith\u001b[39;00m torch\u001b[38;5;241m.\u001b[39mno_grad():\n",
      "\u001b[1;31mNameError\u001b[0m: name 'model' is not defined"
     ]
    }
   ],
   "source": [
    "model.eval()\n",
    "likelihood.eval()\n",
    "with torch.no_grad():\n",
    "    test_pred_dist = model(test_embeddings)\n",
    "test_pred_samples = test_pred_dist.sample(torch.Size((256,))).exp()\n",
    "print(test_pred_samples.shape)\n",
    "test_probabilities = (test_pred_samples / test_pred_samples.sum(1, keepdim=True)).mean(0)\n",
    "print(test_probabilities.shape)\n",
    "\n",
    "test_classes = test_classes.detach().cpu()\n",
    "test_probabilities = test_probabilities.detach().cpu()\n",
    "pred_classes = torch.argmax(test_probabilities,dim=0,keepdim=False)\n",
    "print(pred_classes.shape)"
   ]
  },
  {
   "cell_type": "code",
   "execution_count": null,
   "id": "b1b3fd8a",
   "metadata": {},
   "outputs": [
    {
     "ename": "NameError",
     "evalue": "name 'sklearn' is not defined",
     "output_type": "error",
     "traceback": [
      "\u001b[1;31m---------------------------------------------------------------------------\u001b[0m",
      "\u001b[1;31mNameError\u001b[0m                                 Traceback (most recent call last)",
      "Cell \u001b[1;32mIn[6], line 1\u001b[0m\n\u001b[1;32m----> 1\u001b[0m \u001b[43msklearn\u001b[49m\u001b[38;5;241m.\u001b[39mmetrics\u001b[38;5;241m.\u001b[39mConfusionMatrixDisplay(\n\u001b[0;32m      2\u001b[0m     sklearn\u001b[38;5;241m.\u001b[39mmetrics\u001b[38;5;241m.\u001b[39mconfusion_matrix(test_classes, (pred_classes)),\n\u001b[0;32m      3\u001b[0m     display_labels\u001b[38;5;241m=\u001b[39mclass_labels\n\u001b[0;32m      4\u001b[0m )\u001b[38;5;241m.\u001b[39mplot()\n",
      "\u001b[1;31mNameError\u001b[0m: name 'sklearn' is not defined"
     ]
    }
   ],
   "source": [
    "sklearn.metrics.ConfusionMatrixDisplay(\n",
    "    sklearn.metrics.confusion_matrix(test_classes, (pred_classes)),\n",
    "    display_labels=class_labels\n",
    ").plot();"
   ]
  },
  {
   "cell_type": "code",
   "execution_count": null,
   "id": "9f0f6710",
   "metadata": {},
   "outputs": [
    {
     "ename": "NameError",
     "evalue": "name 'np' is not defined",
     "output_type": "error",
     "traceback": [
      "\u001b[1;31m---------------------------------------------------------------------------\u001b[0m",
      "\u001b[1;31mNameError\u001b[0m                                 Traceback (most recent call last)",
      "Cell \u001b[1;32mIn[7], line 1\u001b[0m\n\u001b[1;32m----> 1\u001b[0m \u001b[38;5;28mprint\u001b[39m(\u001b[38;5;124m'\u001b[39m\u001b[38;5;124mROC-AUC\u001b[39m\u001b[38;5;124m'\u001b[39m,\u001b[43mnp\u001b[49m\u001b[38;5;241m.\u001b[39mround(sklearn\u001b[38;5;241m.\u001b[39mmetrics\u001b[38;5;241m.\u001b[39mroc_auc_score(\n\u001b[0;32m      2\u001b[0m     test_classes,\n\u001b[0;32m      3\u001b[0m     torch\u001b[38;5;241m.\u001b[39msoftmax(test_probabilities,dim\u001b[38;5;241m=\u001b[39m\u001b[38;5;241m0\u001b[39m)\u001b[38;5;241m.\u001b[39mt(),multi_class\u001b[38;5;241m=\u001b[39m\u001b[38;5;124m'\u001b[39m\u001b[38;5;124movr\u001b[39m\u001b[38;5;124m'\u001b[39m\n\u001b[0;32m      4\u001b[0m ),\u001b[38;5;241m2\u001b[39m))\n\u001b[0;32m      6\u001b[0m \u001b[38;5;28mprint\u001b[39m(\u001b[38;5;124m'\u001b[39m\u001b[38;5;124mAcc\u001b[39m\u001b[38;5;124m'\u001b[39m,np\u001b[38;5;241m.\u001b[39mround(sklearn\u001b[38;5;241m.\u001b[39mmetrics\u001b[38;5;241m.\u001b[39maccuracy_score(\n\u001b[0;32m      7\u001b[0m     test_classes,\n\u001b[0;32m      8\u001b[0m     (torch\u001b[38;5;241m.\u001b[39margmax(test_probabilities,dim\u001b[38;5;241m=\u001b[39m\u001b[38;5;241m0\u001b[39m,keepdim\u001b[38;5;241m=\u001b[39m\u001b[38;5;28;01mFalse\u001b[39;00m))\n\u001b[0;32m      9\u001b[0m )\u001b[38;5;241m*\u001b[39m\u001b[38;5;241m100\u001b[39m,\u001b[38;5;241m2\u001b[39m),\u001b[38;5;124m'\u001b[39m\u001b[38;5;124m%\u001b[39m\u001b[38;5;124m'\u001b[39m)\n",
      "\u001b[1;31mNameError\u001b[0m: name 'np' is not defined"
     ]
    }
   ],
   "source": [
    "\n",
    "print('ROC-AUC',np.round(sklearn.metrics.roc_auc_score(\n",
    "    test_classes,\n",
    "    torch.softmax(test_probabilities,dim=0).t(),multi_class='ovr'\n",
    "),2))\n",
    "\n",
    "print('Acc',np.round(sklearn.metrics.accuracy_score(\n",
    "    test_classes,\n",
    "    (torch.argmax(test_probabilities,dim=0,keepdim=False))\n",
    ")*100,2),'%')\n",
    "\n",
    "# print(test_probabilities.t().shape)\n",
    "# pred = test_probabilities.t().argmax(-1)\n",
    "# correct = pred.eq(test_classes).cpu().sum()\n",
    "# acc = 100. * correct / float(len(test_loader.dataset))\n",
    "# print(acc)\n"
   ]
  },
  {
   "cell_type": "markdown",
   "id": "2fc5b92c",
   "metadata": {},
   "source": [
    "## visualize the results"
   ]
  },
  {
   "cell_type": "code",
   "execution_count": null,
   "id": "99a2c459",
   "metadata": {},
   "outputs": [
    {
     "ename": "NameError",
     "evalue": "name 'torchvision' is not defined",
     "output_type": "error",
     "traceback": [
      "\u001b[1;31m---------------------------------------------------------------------------\u001b[0m",
      "\u001b[1;31mNameError\u001b[0m                                 Traceback (most recent call last)",
      "Cell \u001b[1;32mIn[8], line 3\u001b[0m\n\u001b[0;32m      1\u001b[0m \u001b[38;5;28;01mfrom\u001b[39;00m \u001b[38;5;21;01mfunctools\u001b[39;00m \u001b[38;5;28;01mimport\u001b[39;00m cache\n\u001b[1;32m----> 3\u001b[0m tensor_to_image \u001b[38;5;241m=\u001b[39m \u001b[43mtorchvision\u001b[49m\u001b[38;5;241m.\u001b[39mtransforms\u001b[38;5;241m.\u001b[39mToPILImage()\n\u001b[0;32m      4\u001b[0m \u001b[38;5;129m@cache\u001b[39m\n\u001b[0;32m      5\u001b[0m \u001b[38;5;28;01mdef\u001b[39;00m \u001b[38;5;21mtensor_to_url\u001b[39m(tensor, size\u001b[38;5;241m=\u001b[39m\u001b[38;5;241m128\u001b[39m):\n\u001b[0;32m      6\u001b[0m     \u001b[38;5;28;01mreturn\u001b[39;00m \u001b[38;5;124mfr\u001b[39m\u001b[38;5;124m\"\u001b[39m\u001b[38;5;124mdata:image/png;base64,\u001b[39m\u001b[38;5;132;01m{\u001b[39;00mbase64\u001b[38;5;241m.\u001b[39mb64encode(PIL\u001b[38;5;241m.\u001b[39mImageOps\u001b[38;5;241m.\u001b[39mcontain(tensor_to_image(tensor),\u001b[38;5;250m \u001b[39m(size,\u001b[38;5;250m \u001b[39msize))\u001b[38;5;241m.\u001b[39m_repr_png_())\u001b[38;5;241m.\u001b[39mdecode(\u001b[38;5;124m'\u001b[39m\u001b[38;5;124mascii\u001b[39m\u001b[38;5;124m'\u001b[39m)\u001b[38;5;132;01m}\u001b[39;00m\u001b[38;5;124m\"\u001b[39m\n",
      "\u001b[1;31mNameError\u001b[0m: name 'torchvision' is not defined"
     ]
    }
   ],
   "source": [
    "from functools import cache\n",
    "\n",
    "tensor_to_image = torchvision.transforms.ToPILImage()\n",
    "@cache\n",
    "def tensor_to_url(tensor, size=128):\n",
    "    return fr\"data:image/png;base64,{base64.b64encode(PIL.ImageOps.contain(tensor_to_image(tensor), (size, size))._repr_png_()).decode('ascii')}\""
   ]
  },
  {
   "cell_type": "code",
   "execution_count": null,
   "id": "33c66afe",
   "metadata": {},
   "outputs": [
    {
     "ename": "NameError",
     "evalue": "name 'torch' is not defined",
     "output_type": "error",
     "traceback": [
      "\u001b[1;31m---------------------------------------------------------------------------\u001b[0m",
      "\u001b[1;31mNameError\u001b[0m                                 Traceback (most recent call last)",
      "Cell \u001b[1;32mIn[9], line 1\u001b[0m\n\u001b[1;32m----> 1\u001b[0m x_grid \u001b[38;5;241m=\u001b[39m \u001b[43mtorch\u001b[49m\u001b[38;5;241m.\u001b[39mas_tensor(np\u001b[38;5;241m.\u001b[39mstack(np\u001b[38;5;241m.\u001b[39mmeshgrid(np\u001b[38;5;241m.\u001b[39mlinspace(\u001b[38;5;241m-\u001b[39m\u001b[38;5;241m1\u001b[39m,\u001b[38;5;241m1\u001b[39m), np\u001b[38;5;241m.\u001b[39mlinspace(\u001b[38;5;241m-\u001b[39m\u001b[38;5;241m1\u001b[39m,\u001b[38;5;241m1\u001b[39m)), \u001b[38;5;241m-\u001b[39m\u001b[38;5;241m1\u001b[39m))\u001b[38;5;241m.\u001b[39mto(model\u001b[38;5;241m.\u001b[39mtrain_inputs[\u001b[38;5;241m0\u001b[39m])\n\u001b[0;32m      2\u001b[0m y_grid \u001b[38;5;241m=\u001b[39m model\u001b[38;5;241m.\u001b[39membedding_posterior(x_grid\u001b[38;5;241m.\u001b[39mview(\u001b[38;5;241m-\u001b[39m\u001b[38;5;241m1\u001b[39m,\u001b[38;5;241m2\u001b[39m))\n\u001b[0;32m      4\u001b[0m y_grid \u001b[38;5;241m=\u001b[39m y_grid\u001b[38;5;241m.\u001b[39msample(torch\u001b[38;5;241m.\u001b[39mSize((\u001b[38;5;241m256\u001b[39m,)))\u001b[38;5;241m.\u001b[39mexp()\n",
      "\u001b[1;31mNameError\u001b[0m: name 'torch' is not defined"
     ]
    }
   ],
   "source": [
    "x_grid = torch.as_tensor(np.stack(np.meshgrid(np.linspace(-1,1), np.linspace(-1,1)), -1)).to(model.train_inputs[0])\n",
    "y_grid = model.embedding_posterior(x_grid.view(-1,2))\n",
    "\n",
    "y_grid = y_grid.sample(torch.Size((256,))).exp()\n",
    "y_grid_mean = (y_grid / y_grid.sum(1, keepdim=True)).mean(0)\n",
    "\n",
    "all_classes = sorted(train_classes.unique().numpy())\n",
    "n_cols = 3\n",
    "n_rows = int(np.ceil(len(all_classes)/n_cols))\n",
    "f,axs = plt.subplots(\n",
    "    n_rows,n_cols, figsize=(n_cols*3, n_rows*3),\n",
    "    sharex=True, sharey=True, constrained_layout=True\n",
    ")\n",
    "for ax in axs.flat:\n",
    "    ax.set_visible(False)\n",
    "for i in range(len(all_classes)):\n",
    "    ax = axs.flat[i]\n",
    "    ax.set_visible(True)\n",
    "    ax.set_title(f'{class_labels[i]} ({i})', fontsize=10)\n",
    "    ax.imshow(\n",
    "        y_grid_mean[i].view(x_grid.shape[:2]).numpy(force=True), cmap='PiYG',\n",
    "        origin='lower', aspect='auto', extent=[-1,1,-1,1],\n",
    "        vmin=0, vmax=1\n",
    "    )\n",
    "    ax.scatter(\n",
    "        *model.transform((train_embeddings)).numpy(force=True).T,\n",
    "        c=(train_classes != i),\n",
    "        vmin=0, vmax=10, marker='o', cmap='tab10', edgecolor='k',\n",
    "        s=10\n",
    "    )\n",
    "    ax.scatter(\n",
    "        *model.transform((test_embeddings)).numpy(force=True).T,\n",
    "        c=(test_classes != i),\n",
    "        vmin=0, vmax=10, marker='X', cmap='tab10', edgecolor='k',\n",
    "        s=40\n",
    "    )"
   ]
  },
  {
   "cell_type": "code",
   "execution_count": null,
   "id": "aa7bd262",
   "metadata": {},
   "outputs": [
    {
     "ename": "FileNotFoundError",
     "evalue": "[Errno 2] No such file or directory: '/home/sicelukwanda/modm/datasets/fashion_designers_list/train.json'",
     "output_type": "error",
     "traceback": [
      "\u001b[1;31m---------------------------------------------------------------------------\u001b[0m",
      "\u001b[1;31mFileNotFoundError\u001b[0m                         Traceback (most recent call last)",
      "Cell \u001b[1;32mIn[10], line 4\u001b[0m\n\u001b[0;32m      1\u001b[0m \u001b[38;5;28;01mimport\u001b[39;00m \u001b[38;5;21;01mjson\u001b[39;00m\n\u001b[0;32m      2\u001b[0m img_root \u001b[38;5;241m=\u001b[39m \u001b[38;5;124m'\u001b[39m\u001b[38;5;124m/home/sicelukwanda/modm/datasets/fashion_designers_list/\u001b[39m\u001b[38;5;124m'\u001b[39m\n\u001b[1;32m----> 4\u001b[0m \u001b[38;5;28;01mwith\u001b[39;00m \u001b[38;5;28;43mopen\u001b[39;49m\u001b[43m(\u001b[49m\u001b[43mimg_root\u001b[49m\u001b[38;5;241;43m+\u001b[39;49m\u001b[38;5;124;43m\"\u001b[39;49m\u001b[38;5;124;43mtrain.json\u001b[39;49m\u001b[38;5;124;43m\"\u001b[39;49m\u001b[43m,\u001b[49m\u001b[43m \u001b[49m\u001b[38;5;124;43m'\u001b[39;49m\u001b[38;5;124;43mr\u001b[39;49m\u001b[38;5;124;43m'\u001b[39;49m\u001b[43m)\u001b[49m \u001b[38;5;28;01mas\u001b[39;00m json_file:\n\u001b[0;32m      5\u001b[0m     train_metadata \u001b[38;5;241m=\u001b[39m json\u001b[38;5;241m.\u001b[39mload(json_file)\n\u001b[0;32m      6\u001b[0m \u001b[38;5;28;01mwith\u001b[39;00m \u001b[38;5;28mopen\u001b[39m(img_root\u001b[38;5;241m+\u001b[39m\u001b[38;5;124m\"\u001b[39m\u001b[38;5;124mval.json\u001b[39m\u001b[38;5;124m\"\u001b[39m, \u001b[38;5;124m'\u001b[39m\u001b[38;5;124mr\u001b[39m\u001b[38;5;124m'\u001b[39m) \u001b[38;5;28;01mas\u001b[39;00m json_file:\n",
      "File \u001b[1;32mE:\\Users\\nora\\anaconda3\\envs\\deep_gp\\lib\\site-packages\\IPython\\core\\interactiveshell.py:286\u001b[0m, in \u001b[0;36m_modified_open\u001b[1;34m(file, *args, **kwargs)\u001b[0m\n\u001b[0;32m    279\u001b[0m \u001b[38;5;28;01mif\u001b[39;00m file \u001b[38;5;129;01min\u001b[39;00m {\u001b[38;5;241m0\u001b[39m, \u001b[38;5;241m1\u001b[39m, \u001b[38;5;241m2\u001b[39m}:\n\u001b[0;32m    280\u001b[0m     \u001b[38;5;28;01mraise\u001b[39;00m \u001b[38;5;167;01mValueError\u001b[39;00m(\n\u001b[0;32m    281\u001b[0m         \u001b[38;5;124mf\u001b[39m\u001b[38;5;124m\"\u001b[39m\u001b[38;5;124mIPython won\u001b[39m\u001b[38;5;124m'\u001b[39m\u001b[38;5;124mt let you open fd=\u001b[39m\u001b[38;5;132;01m{\u001b[39;00mfile\u001b[38;5;132;01m}\u001b[39;00m\u001b[38;5;124m by default \u001b[39m\u001b[38;5;124m\"\u001b[39m\n\u001b[0;32m    282\u001b[0m         \u001b[38;5;124m\"\u001b[39m\u001b[38;5;124mas it is likely to crash IPython. If you know what you are doing, \u001b[39m\u001b[38;5;124m\"\u001b[39m\n\u001b[0;32m    283\u001b[0m         \u001b[38;5;124m\"\u001b[39m\u001b[38;5;124myou can use builtins\u001b[39m\u001b[38;5;124m'\u001b[39m\u001b[38;5;124m open.\u001b[39m\u001b[38;5;124m\"\u001b[39m\n\u001b[0;32m    284\u001b[0m     )\n\u001b[1;32m--> 286\u001b[0m \u001b[38;5;28;01mreturn\u001b[39;00m io_open(file, \u001b[38;5;241m*\u001b[39margs, \u001b[38;5;241m*\u001b[39m\u001b[38;5;241m*\u001b[39mkwargs)\n",
      "\u001b[1;31mFileNotFoundError\u001b[0m: [Errno 2] No such file or directory: '/home/sicelukwanda/modm/datasets/fashion_designers_list/train.json'"
     ]
    }
   ],
   "source": [
    "import json\n",
    "img_root = '/home/sicelukwanda/modm/datasets/fashion_designers_list/'\n",
    "\n",
    "with open(img_root+\"train.json\", 'r') as json_file:\n",
    "    train_metadata = json.load(json_file)\n",
    "with open(img_root+\"val.json\", 'r') as json_file:\n",
    "    val_metadata = json.load(json_file)\n",
    "with open(img_root+\"test.json\", 'r') as json_file:\n",
    "    test_metadata = json.load(json_file)\n",
    "\n",
    "class_labels = [\"alexander_mcqueen\",\"donatella_versace\",\"john_galliano\",\"karl_lagerfeld\",\"yves_saint_laurent\"]\n",
    "print(class_labels)\n",
    "\n",
    "n_train = len(train_metadata)\n",
    "n_test = len(test_metadata)\n",
    "n_val = len(val_metadata)\n",
    "\n",
    "train_classes = torch.empty(n_train, dtype=torch.int)\n",
    "train_images = [None]*n_train\n",
    "for i,meta in enumerate(train_metadata):\n",
    "    train_classes[i] = meta['label']\n",
    "    train_images[i] = torchvision.io.read_image(img_root+meta['file_path']).to(device)\n",
    "\n",
    "test_classes = torch.empty(n_test, dtype=torch.int)\n",
    "test_images = [None]*n_test\n",
    "for i,meta in enumerate(test_metadata):\n",
    "    test_classes[i] = meta['label']\n",
    "    test_images[i] = torchvision.io.read_image(img_root+meta['file_path']).to(device)\n",
    "\n",
    "val_classes = torch.empty(n_test, dtype=torch.int)\n",
    "val_images = [None]*n_val\n",
    "for i,meta in enumerate(val_metadata):\n",
    "    test_classes[i] = meta['label']\n",
    "    val_images[i] = torchvision.io.read_image(img_root+meta['file_path']).to(device)\n",
    "\n",
    "# print(train_images[1])"
   ]
  },
  {
   "cell_type": "code",
   "execution_count": null,
   "id": "f2ec2902",
   "metadata": {},
   "outputs": [
    {
     "ename": "NameError",
     "evalue": "name 'torch' is not defined",
     "output_type": "error",
     "traceback": [
      "\u001b[1;31m---------------------------------------------------------------------------\u001b[0m",
      "\u001b[1;31mNameError\u001b[0m                                 Traceback (most recent call last)",
      "Cell \u001b[1;32mIn[11], line 1\u001b[0m\n\u001b[1;32m----> 1\u001b[0m \u001b[38;5;28;01mwith\u001b[39;00m \u001b[43mtorch\u001b[49m\u001b[38;5;241m.\u001b[39mno_grad():\n\u001b[0;32m      2\u001b[0m     kernel_test_train \u001b[38;5;241m=\u001b[39m model\u001b[38;5;241m.\u001b[39mcovar_module(model\u001b[38;5;241m.\u001b[39mtransform(test_embeddings), model\u001b[38;5;241m.\u001b[39mtransform(train_embeddings))\u001b[38;5;241m.\u001b[39mevaluate()\u001b[38;5;241m.\u001b[39mnumpy()\n",
      "\u001b[1;31mNameError\u001b[0m: name 'torch' is not defined"
     ]
    }
   ],
   "source": [
    "with torch.no_grad():\n",
    "    kernel_test_train = model.covar_module(model.transform(test_embeddings), model.transform(train_embeddings)).evaluate().numpy()"
   ]
  },
  {
   "cell_type": "code",
   "execution_count": null,
   "id": "c9fc4190",
   "metadata": {},
   "outputs": [
    {
     "data": {
      "text/html": [
       "<style>\n",
       "    html {\n",
       "        --small-size: 42px;\n",
       "    }\n",
       "    .small-box {\n",
       "        width: calc(var(--small-size) - 4px); height: calc(var(--small-size) - 2px);\n",
       "        border-top: 2px solid; border-left: 2px solid;\n",
       "        //flex: 0 0 auto;\n",
       "    }\n",
       "    .small-holder {\n",
       "        display: flex;\n",
       "        flex-direction: column;\n",
       "        flex-wrap: wrap;\n",
       "        border: 2px solid;\n",
       "        box-sizing: border-box;\n",
       "        border-top: 0;\n",
       "        border-left: 0;\n",
       "        height: calc(var(--small-size) * 4);\n",
       "        width: calc(var(--small-size)*2);\n",
       "    }\n",
       "    .small-holder > .small-box:nth-child(4n) {\n",
       "        height: calc(var(--small-size) - 4px);\n",
       "    }\n",
       "    .big-box {\n",
       "        width: calc(var(--small-size) * 4); height: calc(var(--small-size) * 4);\n",
       "    }\n",
       "    .img-box > img {\n",
       "        //border-left: 1px dashed red;\n",
       "        //border-right: 1px dashed red;\n",
       "    }\n",
       "    .border {\n",
       "        border: 2px solid;\n",
       "        box-sizing: border-box;\n",
       "    }\n",
       "    .img-box {}\n",
       "    .img-box > img {\n",
       "        display: block;\n",
       "        margin: 0 auto;\n",
       "        max-height: 100%;\n",
       "        max-width: 100%;\n",
       "    }\n",
       "    *[data-class=\"0\"] {\n",
       "        border-left: 3px solid #1f77b4;\n",
       "    }\n",
       "    *[data-class=\"1\"] {\n",
       "        border-left: 3px solid #ff7f0e;\n",
       "    }\n",
       "    *[data-class=\"2\"] {\n",
       "        border-left: 3px solid #2ca02c;\n",
       "    }\n",
       "    *[data-class=\"3\"] {\n",
       "        border-left: 3px solid #d62728;\n",
       "    }\n",
       "        *[data-class=\"4\"] {\n",
       "        border-left: 3px solid #d62728;\n",
       "    }\n",
       "</style>\n"
      ],
      "text/plain": [
       "<IPython.core.display.HTML object>"
      ]
     },
     "metadata": {},
     "output_type": "display_data"
    }
   ],
   "source": [
    "%%html\n",
    "<style>\n",
    "    html {\n",
    "        --small-size: 42px;\n",
    "    }\n",
    "    .small-box {\n",
    "        width: calc(var(--small-size) - 4px); height: calc(var(--small-size) - 2px);\n",
    "        border-top: 2px solid; border-left: 2px solid;\n",
    "        //flex: 0 0 auto;\n",
    "    }\n",
    "    .small-holder {\n",
    "        display: flex;\n",
    "        flex-direction: column;\n",
    "        flex-wrap: wrap;\n",
    "        border: 2px solid;\n",
    "        box-sizing: border-box;\n",
    "        border-top: 0;\n",
    "        border-left: 0;\n",
    "        height: calc(var(--small-size) * 4);\n",
    "        width: calc(var(--small-size)*2);\n",
    "    }\n",
    "    .small-holder > .small-box:nth-child(4n) {\n",
    "        height: calc(var(--small-size) - 4px);\n",
    "    }\n",
    "    .big-box {\n",
    "        width: calc(var(--small-size) * 4); height: calc(var(--small-size) * 4);\n",
    "    }\n",
    "    .img-box > img {\n",
    "        //border-left: 1px dashed red;\n",
    "        //border-right: 1px dashed red;\n",
    "    }\n",
    "    .border {\n",
    "        border: 2px solid;\n",
    "        box-sizing: border-box;\n",
    "    }\n",
    "    .img-box {}\n",
    "    .img-box > img {\n",
    "        display: block;\n",
    "        margin: 0 auto;\n",
    "        max-height: 100%;\n",
    "        max-width: 100%;\n",
    "    }\n",
    "    *[data-class=\"0\"] {\n",
    "        border-left: 3px solid #1f77b4;\n",
    "    }\n",
    "    *[data-class=\"1\"] {\n",
    "        border-left: 3px solid #ff7f0e;\n",
    "    }\n",
    "    *[data-class=\"2\"] {\n",
    "        border-left: 3px solid #2ca02c;\n",
    "    }\n",
    "    *[data-class=\"3\"] {\n",
    "        border-left: 3px solid #d62728;\n",
    "    }\n",
    "        *[data-class=\"4\"] {\n",
    "        border-left: 3px solid #d62728;\n",
    "    }\n",
    "</style>"
   ]
  },
  {
   "cell_type": "code",
   "execution_count": null,
   "id": "03747054",
   "metadata": {},
   "outputs": [
    {
     "ename": "NameError",
     "evalue": "name 'n_test' is not defined",
     "output_type": "error",
     "traceback": [
      "\u001b[1;31m---------------------------------------------------------------------------\u001b[0m",
      "\u001b[1;31mNameError\u001b[0m                                 Traceback (most recent call last)",
      "Cell \u001b[1;32mIn[13], line 8\u001b[0m\n\u001b[0;32m      5\u001b[0m \u001b[38;5;28;01mimport\u001b[39;00m \u001b[38;5;21;01mbase64\u001b[39;00m\n\u001b[0;32m      7\u001b[0m html_str \u001b[38;5;241m=\u001b[39m \u001b[38;5;124m\"\u001b[39m\u001b[38;5;124m<div style=\u001b[39m\u001b[38;5;124m'\u001b[39m\u001b[38;5;124mdisplay: flex;gap: 22px;flex-wrap: wrap;\u001b[39m\u001b[38;5;124m'\u001b[39m\u001b[38;5;124m>\u001b[39m\u001b[38;5;124m\"\u001b[39m\n\u001b[1;32m----> 8\u001b[0m \u001b[38;5;28;01mfor\u001b[39;00m i \u001b[38;5;129;01min\u001b[39;00m \u001b[38;5;28msorted\u001b[39m(\u001b[38;5;28mrange\u001b[39m(\u001b[43mn_test\u001b[49m), key\u001b[38;5;241m=\u001b[39m\u001b[38;5;28;01mlambda\u001b[39;00m i: test_probabilities[test_classes[i],i])[:\u001b[38;5;241m30\u001b[39m]:\n\u001b[0;32m      9\u001b[0m     top_5 \u001b[38;5;241m=\u001b[39m np\u001b[38;5;241m.\u001b[39margsort(kernel_test_train[\u001b[38;5;241m0\u001b[39m][i])[::\u001b[38;5;241m-\u001b[39m\u001b[38;5;241m1\u001b[39m][:\u001b[38;5;241m8\u001b[39m]\n\u001b[0;32m     10\u001b[0m     top_5_figures \u001b[38;5;241m=\u001b[39m \u001b[38;5;124m'\u001b[39m\u001b[38;5;124m'\u001b[39m\u001b[38;5;241m.\u001b[39mjoin([\n\u001b[0;32m     11\u001b[0m         \u001b[38;5;124mfr\u001b[39m\u001b[38;5;124m\"\"\"\u001b[39m\u001b[38;5;124m<div class=\u001b[39m\u001b[38;5;124m\"\u001b[39m\u001b[38;5;124mimg-box small-box\u001b[39m\u001b[38;5;124m\"\u001b[39m\u001b[38;5;124m data-class=\u001b[39m\u001b[38;5;124m\"\u001b[39m\u001b[38;5;132;01m{\u001b[39;00mtrain_classes[j]\u001b[38;5;132;01m}\u001b[39;00m\u001b[38;5;124m\"\u001b[39m\u001b[38;5;124m><img src=\u001b[39m\u001b[38;5;124m\"\u001b[39m\u001b[38;5;132;01m{\u001b[39;00mtensor_to_url(train_images[j],\u001b[38;5;250m \u001b[39m\u001b[38;5;241m42\u001b[39m)\u001b[38;5;132;01m}\u001b[39;00m\u001b[38;5;124m\"\u001b[39m\u001b[38;5;124m></div>\u001b[39m\u001b[38;5;124m\"\"\"\u001b[39m\n\u001b[0;32m     12\u001b[0m         \u001b[38;5;28;01mfor\u001b[39;00m j \u001b[38;5;129;01min\u001b[39;00m top_5\n\u001b[0;32m     13\u001b[0m     ])\n",
      "\u001b[1;31mNameError\u001b[0m: name 'n_test' is not defined"
     ]
    }
   ],
   "source": [
    "# Packages for Jupyter notebook\n",
    "import IPython.display as ipd\n",
    "import matplotlib.pyplot as plt\n",
    "import PIL\n",
    "import base64\n",
    "\n",
    "html_str = \"<div style='display: flex;gap: 22px;flex-wrap: wrap;'>\"\n",
    "for i in sorted(range(n_test), key=lambda i: test_probabilities[test_classes[i],i])[:30]:\n",
    "    top_5 = np.argsort(kernel_test_train[0][i])[::-1][:8]\n",
    "    top_5_figures = ''.join([\n",
    "        fr\"\"\"<div class=\"img-box small-box\" data-class=\"{train_classes[j]}\"><img src=\"{tensor_to_url(train_images[j], 42)}\"></div>\"\"\"\n",
    "        for j in top_5\n",
    "    ])\n",
    "    html_str += fr'''<div>\n",
    "    <div style='margin: 0 auto; display: flex;'>\n",
    "    <div class=\"img-box big-box border\" style='border-right: 0 !important;' data-class=\"{test_classes[i]}\">\n",
    "        <img src=\"{tensor_to_url(test_images[i], 192)}\">\n",
    "    </div>\n",
    "    <div class=\"small-holder\">{top_5_figures}</div>\n",
    "    </div>\n",
    "    <pre>\n",
    "P(c={test_classes[i]}): {100*test_probabilities[test_classes[i],i].numpy(force=True):0.2f}%\n",
    "Class:  {class_labels[test_classes[i]]}</pre> \n",
    "    </div>'''\n",
    "html_str += '</div>'\n",
    "ipd.HTML(html_str)"
   ]
  },
  {
   "cell_type": "code",
   "execution_count": null,
   "id": "70f0dda8",
   "metadata": {},
   "outputs": [],
   "source": []
  },
  {
   "cell_type": "code",
   "execution_count": null,
   "id": "b1ce1198",
   "metadata": {},
   "outputs": [],
   "source": []
  },
  {
   "cell_type": "code",
   "execution_count": null,
   "id": "3cb0a2b8",
   "metadata": {},
   "outputs": [],
   "source": []
  },
  {
   "cell_type": "code",
   "execution_count": null,
   "id": "77fad48c",
   "metadata": {},
   "outputs": [],
   "source": []
  },
  {
   "cell_type": "code",
   "execution_count": null,
   "id": "ad27ff4c",
   "metadata": {},
   "outputs": [],
   "source": []
  },
  {
   "cell_type": "code",
   "execution_count": null,
   "id": "41ccb93c",
   "metadata": {},
   "outputs": [],
   "source": []
  },
  {
   "cell_type": "code",
   "execution_count": null,
   "id": "9ce4b046",
   "metadata": {},
   "outputs": [],
   "source": []
  },
  {
   "cell_type": "code",
   "execution_count": null,
   "id": "d2a6e340",
   "metadata": {},
   "outputs": [],
   "source": []
  },
  {
   "cell_type": "code",
   "execution_count": null,
   "id": "0e221cd1",
   "metadata": {},
   "outputs": [],
   "source": []
  },
  {
   "cell_type": "code",
   "execution_count": null,
   "id": "268755b7",
   "metadata": {},
   "outputs": [],
   "source": []
  },
  {
   "cell_type": "code",
   "execution_count": null,
   "id": "c6357b76",
   "metadata": {},
   "outputs": [],
   "source": []
  },
  {
   "cell_type": "code",
   "execution_count": null,
   "id": "0b26c83a",
   "metadata": {},
   "outputs": [],
   "source": []
  },
  {
   "cell_type": "code",
   "execution_count": null,
   "id": "5224a565",
   "metadata": {},
   "outputs": [],
   "source": []
  },
  {
   "cell_type": "code",
   "execution_count": null,
   "id": "5feb7dfb",
   "metadata": {},
   "outputs": [],
   "source": []
  },
  {
   "cell_type": "code",
   "execution_count": null,
   "id": "4a788440",
   "metadata": {},
   "outputs": [],
   "source": []
  },
  {
   "cell_type": "code",
   "execution_count": null,
   "id": "c074ef52",
   "metadata": {},
   "outputs": [],
   "source": []
  },
  {
   "cell_type": "code",
   "execution_count": null,
   "id": "ef449157",
   "metadata": {},
   "outputs": [],
   "source": []
  },
  {
   "cell_type": "code",
   "execution_count": null,
   "id": "464dc1b7",
   "metadata": {},
   "outputs": [],
   "source": []
  },
  {
   "cell_type": "code",
   "execution_count": null,
   "id": "0c72bf94",
   "metadata": {},
   "outputs": [],
   "source": []
  },
  {
   "cell_type": "code",
   "execution_count": null,
   "id": "fe7d96e0",
   "metadata": {},
   "outputs": [],
   "source": []
  },
  {
   "cell_type": "code",
   "execution_count": null,
   "id": "3f854f6f",
   "metadata": {},
   "outputs": [],
   "source": []
  },
  {
   "cell_type": "code",
   "execution_count": null,
   "id": "b224af5b",
   "metadata": {},
   "outputs": [],
   "source": []
  }
 ],
 "metadata": {
  "kernelspec": {
   "display_name": "deep_gp",
   "language": "python",
   "name": "deep_gp"
  }
 },
 "nbformat": 4,
 "nbformat_minor": 5
}
