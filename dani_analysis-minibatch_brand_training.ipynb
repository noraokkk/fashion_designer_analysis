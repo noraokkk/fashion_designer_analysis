{
 "cells": [
  {
   "cell_type": "markdown",
   "metadata": {},
   "source": [
    "101 fashion brand analysis"
   ]
  },
  {
   "cell_type": "code",
   "execution_count": 1,
   "metadata": {},
   "outputs": [
    {
     "name": "stderr",
     "output_type": "stream",
     "text": [
      "e:\\Users\\nora\\anaconda3\\envs\\deep_gp\\lib\\site-packages\\tqdm\\auto.py:21: TqdmWarning: IProgress not found. Please update jupyter and ipywidgets. See https://ipywidgets.readthedocs.io/en/stable/user_install.html\n",
      "  from .autonotebook import tqdm as notebook_tqdm\n"
     ]
    }
   ],
   "source": [
    "# CUDA_LAUNCH_BLOCKING=1\n",
    "# TORCH_USE_CUDA_DSA=1\n",
    "from resnet_model import resnet_model, Vit\n",
    "from torch.utils.data import DataLoader, TensorDataset\n",
    "import os\n",
    "import torchvision.transforms as transforms\n",
    "import numpy as np\n",
    "import sklearn.metrics\n",
    "import pandas as pd\n",
    "import sklearn.model_selection\n",
    "import torch\n",
    "import torchvision\n",
    "import gpytorch\n",
    "import json\n",
    "from pathlib import Path\n",
    "import matplotlib.pyplot as plt\n",
    "import PIL\n",
    "import base64\n",
    "from functools import cache\n",
    "import wandb\n",
    "import socket\n",
    "import warnings\n",
    "from gp_models import DirichletGPModel, MeanFieldDecoupledModel, MAPApproximateGP, OrthDecoupledApproximateGP\n",
    "\n",
    "tensor_to_image = torchvision.transforms.ToPILImage()\n",
    "pil_to_tensor = torchvision.transforms.PILToTensor()"
   ]
  },
  {
   "cell_type": "markdown",
   "metadata": {},
   "source": []
  },
  {
   "cell_type": "code",
   "execution_count": 2,
   "metadata": {},
   "outputs": [],
   "source": [
    "# This is secret and shouldn't be checked into version control\n",
    "WANDB_API_KEY= \"f7759c66171682d187e02ab1f88680efdb9de31d\"\n",
    "# Name and notes optional\n",
    "# WANDB_NAME=\"My first run\"\n",
    "# WANDB_NOTES=\"Smaller learning rate, more regularization.\"\n",
    "# If you don't want your script to sync to the cloud\n",
    "# os.environ[\"WANDB_MODE\"] = \"offline\""
   ]
  },
  {
   "cell_type": "code",
   "execution_count": 3,
   "metadata": {},
   "outputs": [],
   "source": [
    "\n",
    "@cache\n",
    "def tensor_to_url(tensor, size=128):\n",
    "    return fr\"data:image/png;base64,{base64.b64encode(PIL.ImageOps.contain(tensor_to_image(tensor), (size, size))._repr_png_()).decode('ascii')}\"\n",
    "\n",
    "\n",
    "# Make all photos square\n",
    "def pad_image(img):\n",
    "    h, w = img.shape[1:]\n",
    "    if h != w:\n",
    "        new_w = max(h, w)\n",
    "        pad_h, rem_h = divmod(new_w - h, 2)\n",
    "        pad_w, rem_w = divmod(new_w - w, 2)\n",
    "        padding = [pad_w, pad_h, pad_w + rem_w, pad_h + rem_h]\n",
    "        return torchvision.transforms.functional.pad(img, padding, padding_mode='edge')\n",
    "    return img"
   ]
  },
  {
   "cell_type": "code",
   "execution_count": 4,
   "metadata": {},
   "outputs": [],
   "source": [
    "class Designer(torch.utils.data.Dataset):\n",
    "    def __init__(self,\n",
    "                 num_classes,\n",
    "                 is_training=False,\n",
    "                 data_augument=False,\n",
    "                 image_transform=None,\n",
    "                 data=None,\n",
    "                 root=\"\"\n",
    "                 ):\n",
    "        self.num_class = num_classes\n",
    "        self.is_training = is_training\n",
    "        self.data_augument = data_augument\n",
    "        self.image_transform = image_transform\n",
    "        self.data = data\n",
    "        self.root = root\n",
    "\n",
    "    def __getitem__(self, index):\n",
    "        img_pth = self.data[0][index]\n",
    "        label = self.data[1][index]\n",
    "        img_pth = os.path.join(self.root, img_pth)\n",
    "        # print(img_pth)\n",
    "        image = self.pad_image(torchvision.io.read_image(img_pth, mode=torchvision.io.ImageReadMode.RGB))\n",
    "        image = self.image_transform(image)\n",
    "        # label = data[\"season_label\"]\n",
    "        # label_vec = np.zeros(self.num_class)\n",
    "        # label_vec[label]=1\n",
    "        # return image,label_vec\n",
    "        return image, label, index\n",
    "\n",
    "    def __len__(self):\n",
    "        return len(self.data[0])\n",
    "\n",
    "    # Make all photos square\n",
    "    def pad_image(self, img):\n",
    "        h, w = img.shape[1:]\n",
    "        if h != w:\n",
    "            new_w = max(h, w)\n",
    "            pad_h, rem_h = divmod(new_w - h, 2)\n",
    "            pad_w, rem_w = divmod(new_w - w, 2)\n",
    "            padding = [pad_w, pad_h, pad_w + rem_w, pad_h + rem_h]\n",
    "            return torchvision.transforms.functional.pad(img, padding, padding_mode='edge')\n",
    "        return img"
   ]
  },
  {
   "cell_type": "code",
   "execution_count": 5,
   "metadata": {},
   "outputs": [],
   "source": [
    "class MinibatchedDirichletClassificationLikelihood(gpytorch.likelihoods.DirichletClassificationLikelihood):\n",
    "    def _shaped_noise_covar(self, base_shape, *params, selected_noise=None, **kwargs):\n",
    "        assert selected_noise is not None\n",
    "        if len(params) > 0:\n",
    "            # we can infer the shape from the params\n",
    "            shape = None\n",
    "        else:\n",
    "            # here shape[:-1] is the batch shape requested, and shape[-1] is `n`, the number of points\n",
    "            shape = base_shape\n",
    "\n",
    "        res = self.noise_covar(*params, shape=shape, noise=selected_noise, **kwargs)\n",
    "\n",
    "        if self.second_noise_covar is not None:\n",
    "            res = res + self.second_noise_covar(*params, shape=shape, **kwargs)\n",
    "        elif isinstance(res, gpytorch.linear_operator.ZeroLinearOperator):\n",
    "            warnings.warn(\n",
    "                \"You have passed data through a FixedNoiseGaussianLikelihood that did not match the size \"\n",
    "                \"of the fixed noise, *and* you did not specify noise. This is treated as a no-op.\",\n",
    "                gpytorch.utils.warnings.GPInputWarning,\n",
    "            )\n",
    "\n",
    "        return res"
   ]
  },
  {
   "cell_type": "code",
   "execution_count": 6,
   "metadata": {},
   "outputs": [],
   "source": [
    "torch.manual_seed(0)\n",
    "img_size = 224\n",
    "device = torch.device(\"cuda:0\" if torch.cuda.is_available() else \"cpu\")\n",
    "# device = \"cpu\""
   ]
  },
  {
   "cell_type": "markdown",
   "metadata": {},
   "source": [
    "# data json"
   ]
  },
  {
   "cell_type": "code",
   "execution_count": 7,
   "metadata": {},
   "outputs": [],
   "source": [
    "# 101 classes\n",
    "img_root = Path('F://datasets//fashion_brands//')\n",
    "train_metadata = json.loads((img_root / 'train.json').read_text())\n",
    "test_metadata = json.loads((img_root / 'test.json').read_text())\n",
    "val_metadata = json.loads((img_root / 'val.json').read_text())"
   ]
  },
  {
   "cell_type": "code",
   "execution_count": 8,
   "metadata": {},
   "outputs": [],
   "source": [
    "# # 5 classes\n",
    "# img_root = Path('F://datasets//fashion_designers_list')\n",
    "# train_metadata = json.loads((img_root / 'train.json').read_text())\n",
    "# test_metadata = json.loads((img_root / 'test.json').read_text())\n",
    "# val_metadata = json.loads((img_root / 'val.json').read_text())\n",
    "# class_labels = [\"alexander_mcqueen\", \"donatella_versace\", \"john_galliano\", \"karl_lagerfeld\", \"yves_saint_laurent\"]\n"
   ]
  },
  {
   "cell_type": "code",
   "execution_count": 9,
   "metadata": {},
   "outputs": [
    {
     "name": "stdout",
     "output_type": "stream",
     "text": [
      "tensor(101, dtype=torch.int32)\n"
     ]
    }
   ],
   "source": [
    "n_train = len(train_metadata)\n",
    "n_test = len(test_metadata)\n",
    "n_val = len(val_metadata)\n",
    "n_all = n_train + n_test + n_val\n",
    "\n",
    "all_classes = torch.empty(n_all, dtype=torch.int)\n",
    "all_images_path = [None] * n_all\n",
    "# all_images = [None]*n_all\n",
    "for i, meta in enumerate((*train_metadata, *test_metadata, *val_metadata)):\n",
    "    # print(i)\n",
    "    all_classes[i] = meta['label']\n",
    "    all_images_path[i] = str(img_root / meta['file_path'])\n",
    "\n",
    "    # images\n",
    "    # all_images[i] = torchvision.io.read_image(str(img_root / meta['file_path']),mode=torchvision.io.ImageReadMode.RGB)\n",
    "    # all_images[i] = pad_image(torchvision.transforms.functional.resize(all_images[i], img_size, antialias=True))\n",
    "\n",
    "n_classes = all_classes.max() + 1\n",
    "print(n_classes)\n",
    "# latent_dim_res = n_classes\n",
    "latent_dim_res = 512  # res18\n",
    "# latent_dim_res = 2048  # res50\n",
    "# latent_dim_res = 768  # transformer"
   ]
  },
  {
   "cell_type": "code",
   "execution_count": 10,
   "metadata": {},
   "outputs": [
    {
     "data": {
      "text/plain": [
       "<All keys matched successfully>"
      ]
     },
     "execution_count": 10,
     "metadata": {},
     "output_type": "execute_result"
    }
   ],
   "source": [
    "# resnet for 101 classes\n",
    "resnet_extractor = resnet_model(n_classes, backbone=\"resnet101\").to(device)\n",
    "# checkpoint = torch.load('results//fashion_brands_101_res18.3layer.bsz_128sz_224.sgd0.002//best_model.pt',\n",
    "checkpoint = torch.load('results//fashion_brands_101_res101.3layer.bsz_16sz_224.sgd0.002//best_model.pt',\n",
    "                        map_location=device)\n",
    "resnet_extractor.load_state_dict(checkpoint['state_dict'])\n"
   ]
  },
  {
   "cell_type": "code",
   "execution_count": 11,
   "metadata": {},
   "outputs": [],
   "source": [
    "# # resnet for 5 classes\n",
    "# resnet_extractor = resnet_model(n_classes, backbone=\"resnet18\").to(device)\n",
    "# checkpoint = torch.load('results//fashion_designers_c5.3layer.bsz_128sz_224.sgd0.002//best_model.pt',\n",
    "#                         map_location=device)\n",
    "# resnet_extractor.load_state_dict(checkpoint['state_dict'])"
   ]
  },
  {
   "cell_type": "code",
   "execution_count": 12,
   "metadata": {},
   "outputs": [],
   "source": [
    "for p in resnet_extractor.parameters():\n",
    "    p.requires_grad = False"
   ]
  },
  {
   "cell_type": "code",
   "execution_count": 13,
   "metadata": {},
   "outputs": [],
   "source": [
    "resnet_input_transform = torchvision.models.ResNet18_Weights.DEFAULT.transforms()\n",
    "crop_size = resnet_input_transform.crop_size[0]\n",
    "normTransform = transforms.Normalize(mean=[0.485, 0.456, 0.406], std=[0.229, 0.224, 0.225])\n",
    "transform = transforms.Compose(\n",
    "    [\n",
    "        transforms.ToPILImage(),  # for the pad image function: tensor -> Image\n",
    "        transforms.Resize((crop_size, crop_size)),\n",
    "        transforms.ToTensor(),\n",
    "        normTransform\n",
    "    ]\n",
    ")"
   ]
  },
  {
   "cell_type": "markdown",
   "metadata": {},
   "source": [
    "# fixed train val test"
   ]
  },
  {
   "cell_type": "code",
   "execution_count": 14,
   "metadata": {},
   "outputs": [
    {
     "name": "stdout",
     "output_type": "stream",
     "text": [
      "training num:11743\n",
      "testing num:3356\n"
     ]
    }
   ],
   "source": [
    "train_classes = []\n",
    "train_images_pth = []\n",
    "for i, meta in enumerate(train_metadata):\n",
    "    # print(i)\n",
    "    train_classes.append(meta['label'])\n",
    "    train_images_pth.append(str(img_root / meta['file_path']))\n",
    "train_classes = torch.tensor(train_classes)\n",
    "train_data = [train_images_pth, train_classes]\n",
    "\n",
    "test_classes = []\n",
    "test_images_pth = []\n",
    "for i, meta in enumerate(test_metadata):\n",
    "    # print(i)\n",
    "    test_classes.append(meta['label'])\n",
    "    test_images_pth.append(str(img_root / meta['file_path']))\n",
    "test_classes = torch.tensor(test_classes)\n",
    "test_data = [test_images_pth, test_classes]\n",
    "\n",
    "print(\"training num:{}\".format(len(train_images_pth)))\n",
    "print(\"testing num:{}\".format(len(test_images_pth)))"
   ]
  },
  {
   "cell_type": "markdown",
   "metadata": {},
   "source": [
    "# visual data distribution"
   ]
  },
  {
   "cell_type": "code",
   "execution_count": 15,
   "metadata": {},
   "outputs": [],
   "source": [
    "from collections import defaultdict\n",
    "import matplotlib.pyplot as plt\n"
   ]
  },
  {
   "cell_type": "code",
   "execution_count": 16,
   "metadata": {},
   "outputs": [],
   "source": [
    "def plot_distribution(class_array, title=''):\n",
    "    grouped_data = defaultdict(list)\n",
    "\n",
    "    # Group elements by their values\n",
    "    for item in class_array:\n",
    "        grouped_data[str(item.detach().numpy())].append(float(item.detach().numpy()))\n",
    "\n",
    "    # Convert the defaultdict to a regular dictionary\n",
    "    grouped_dict = dict(grouped_data)\n",
    "\n",
    "    keys = [class_i for class_i in range(0,n_classes)]\n",
    "    list_lengths = [len(grouped_dict[str(class_i)]) for class_i in range(0,n_classes)]\n",
    "\n",
    "    # Create a bar chart\n",
    "    fig, ax = plt.subplots(figsize=(8, 4))\n",
    "\n",
    "    ax.bar(keys, list_lengths, width=.5)\n",
    "\n",
    "    # Add labels and a title\n",
    "    ax.set_xlabel(\"brand\")\n",
    "    ax.set_ylabel(\"img_count\")\n",
    "    ax.set_title(title)\n",
    "\n",
    "    # Show the plot\n",
    "    plt.show()\n"
   ]
  },
  {
   "cell_type": "code",
   "execution_count": 17,
   "metadata": {},
   "outputs": [
    {
     "data": {
      "image/png": "[encoded data removed]",
      "text/plain": [
       "<Figure size 800x400 with 1 Axes>"
      ]
     },
     "metadata": {},
     "output_type": "display_data"
    },
    {
     "data": {
      "image/png": "[encoded data removed]",
      "text/plain": [
       "<Figure size 800x400 with 1 Axes>"
      ]
     },
     "metadata": {},
     "output_type": "display_data"
    },
    {
     "data": {
      "image/png": "[encoded data removed]",
      "text/plain": [
       "<Figure size 800x400 with 1 Axes>"
      ]
     },
     "metadata": {},
     "output_type": "display_data"
    }
   ],
   "source": [
    "plot_distribution(all_classes,title='101 fashion brands')\n",
    "plot_distribution(train_classes,title='101 fashion brands/train')\n",
    "plot_distribution(test_classes,title='101 fashion brands/test')"
   ]
  },
  {
   "cell_type": "markdown",
   "metadata": {},
   "source": []
  },
  {
   "cell_type": "markdown",
   "metadata": {},
   "source": [
    "# load dataset"
   ]
  },
  {
   "cell_type": "code",
   "execution_count": 18,
   "metadata": {},
   "outputs": [],
   "source": [
    "batch_size = 4\n",
    "train_dataset = Designer(num_classes=len(all_classes), image_transform=transform, is_training=True,\n",
    "                            data_augument=False, data=train_data, root=img_root)\n",
    "test_dataset = Designer(num_classes=len(all_classes), image_transform=transform, is_training=False,\n",
    "                        data_augument=False, data=test_data, root=img_root)\n",
    "train_loader = DataLoader(train_dataset, batch_size=batch_size, shuffle=False, num_workers=4, drop_last=False)\n",
    "test_loader = DataLoader(test_dataset, batch_size=batch_size, shuffle=False, num_workers=4, drop_last=False)"
   ]
  },
  {
   "cell_type": "markdown",
   "metadata": {},
   "source": [
    "# testing the acc on resnet backbone"
   ]
  },
  {
   "cell_type": "code",
   "execution_count": 19,
   "metadata": {},
   "outputs": [],
   "source": [
    "# test_pred_classes = torch.empty(len(test_classes), dtype=torch.int64)\n",
    "# test_pred_probabilities = torch.empty(n_classes, len(test_classes), dtype=torch.float32)\n",
    "# with torch.no_grad():\n",
    "#     for i, (x_batch, y_batch, batch_index) in enumerate(test_loader):\n",
    "#         j = (i * test_loader.batch_size)\n",
    "#         x_batch = x_batch.to(device)\n",
    "#         y_batch = y_batch.to(device)\n",
    "\n",
    "#         test_probabilities = resnet_extractor(x_batch)\n",
    "\n",
    "#         test_probabilities = torch.nn.functional.softmax(test_probabilities, dim=1)\n",
    "#         test_pred_classes[j:j + len(x_batch)] = torch.argmax(test_probabilities, dim=1, keepdim=False)\n",
    "#         test_pred_probabilities[:, j:j + len(x_batch)] = test_probabilities.T\n",
    "\n",
    "# acc = sklearn.metrics.accuracy_score(test_classes.detach().cpu(), test_pred_classes.detach().cpu())\n",
    "# auc = sklearn.metrics.roc_auc_score(test_classes.detach().cpu(), test_pred_probabilities.detach().cpu().T,\n",
    "#                                     multi_class=\"ovo\")\n",
    "# metrics = pd.Series(index=['acc', 'auc'])\n",
    "# metrics.at['acc'] = acc\n",
    "# metrics.at['auc'] = auc\n",
    "# print(\"testing on resnet backbone:\")\n",
    "# print(metrics)"
   ]
  },
  {
   "cell_type": "code",
   "execution_count": 20,
   "metadata": {},
   "outputs": [],
   "source": [
    "params_results = {}\n",
    "num_epochs = 20\n",
    "# os.environ['WANDB_NOTEBOOK_NAME'] = 'some text here'"
   ]
  },
  {
   "cell_type": "code",
   "execution_count": 21,
   "metadata": {},
   "outputs": [
    {
     "name": "stdout",
     "output_type": "stream",
     "text": [
      "epoch: 0/20\n"
     ]
    }
   ],
   "source": [
    "for num_inducing in [900]: #[1500]: #[300,600,900,1200,1500,1800,2100]: #[300, 900, 1200]:\n",
    "    # for latent_dim in [20, 15, 10, 5]:\n",
    "    for latent_dim in [30]: #[3,5,10,15,20]:\n",
    "        para_str = \"inducing_\"+str(num_inducing)+\"dim_\"+str(latent_dim)\n",
    "        # wandb.init(\n",
    "        #     # project=\"fashion_gp_project\",\n",
    "        #     project=\"fashion_brands\",\n",
    "        # )\n",
    "\n",
    "        #define likelihood\n",
    "        # likelihood = gpytorch.likelihoods.DirichletClassificationLikelihood(train_classes.long(), learn_additional_noise=True) #original\n",
    "        likelihood = MinibatchedDirichletClassificationLikelihood(train_classes.long(), learn_additional_noise=True)\n",
    "        # likelihood = gpytorch.likelihoods.DirichletClassificationLikelihood(train_classes.long(), learn_additional_noise=True)\n",
    "        train_transformed_targets = likelihood.transformed_targets\n",
    "        # train_transformed_targets = likelihood.transformed_targets.t()\n",
    "\n",
    "        #define model\n",
    "        model = OrthDecoupledApproximateGP(\n",
    "            num_inducing=num_inducing,\n",
    "            input_dim=latent_dim_res,\n",
    "            num_classes=likelihood.num_classes,\n",
    "            latent_dim=latent_dim\n",
    "        )\n",
    "\n",
    "        likelihood = likelihood.to(device)\n",
    "        model = model.to(device)\n",
    "\n",
    "        # Our loss object. We're using the VariationalELBO\n",
    "        mll = gpytorch.mlls.VariationalELBO(likelihood, model, num_data=train_classes.size(0))\n",
    "        mll.to(device)\n",
    "        mll.train()\n",
    "\n",
    "        # model training\n",
    "        model.train()\n",
    "        initial_lengthscales = model.covar_module.base_kernel.lengthscale.numpy(force=True)\n",
    "        optimization_trace = []\n",
    "        optimizer = torch.optim.Adam(mll.parameters(), lr=0.01)\n",
    "        step = 1\n",
    "        for epoch in range(num_epochs):\n",
    "            model.train()\n",
    "            print(\"epoch: {}/{}\".format(epoch, num_epochs))\n",
    "            for j, (x_batch, y_batch, batch_index) in enumerate(train_loader):\n",
    "                # for x_batch, y_batch in train_loader\n",
    "                if j % 50 == 0:\n",
    "                    print(\"{}/{}\".format(j, str(int(len(train_loader.dataset) / batch_size) + 1)))\n",
    "                optimizer.zero_grad()\n",
    "                x_batch = x_batch.to(device)\n",
    "                y_batch = y_batch.to(device)\n",
    "                y_batch_tf = train_transformed_targets[:, batch_index]\n",
    "                y_batch_tf = y_batch_tf.to(device)\n",
    "                noise_batch = likelihood.noise_covar.noise[:, batch_index]\n",
    "                noise_batch = noise_batch.to(device)\n",
    "                # output = model(resnet_extractor(x_batch))\n",
    "                output = model(resnet_extractor.backbone(x_batch)) # resnet\n",
    "\n",
    "                # output = resnet_extractor.model(x_batch) #transformer\n",
    "                # output = model(output.last_hidden_state[:, 0]) #transformer\n",
    "\n",
    "                # loss = -mll(output, y_batch.t()).sum(dim=0)\n",
    "                # loss = -mll(output, y_batch.t()).mean(dim=0)\n",
    "                full_loss = -mll(output, y_batch_tf, selected_noise=noise_batch)\n",
    "                with torch.no_grad():\n",
    "                    print(full_loss.mean(dim=0).item())\n",
    "                    wandb.log({\n",
    "                        'loss': full_loss.mean(dim=0).item(),\n",
    "                        'full_loss': wandb.Histogram(full_loss.numpy(force=True)),\n",
    "                        'hyper/lengthscale': wandb.Histogram(\n",
    "                            model.covar_module.base_kernel.lengthscale.view(-1).numpy(force=True)),\n",
    "                        'hyper/outputscale': wandb.Histogram(model.covar_module.outputscale.numpy(force=True)),\n",
    "                        'hyper/second_noise': wandb.Histogram(likelihood.second_noise.view(-1).numpy(force=True)),\n",
    "                        'hyper/fc_eighs': torch.linalg.eigvalsh(model.fc.weight.T @ model.fc.weight).sum().item(),\n",
    "                    }, step=step)\n",
    "                loss = full_loss.mean(dim=0)\n",
    "                optimization_trace.append(full_loss.mean(dim=0).item())\n",
    "                #optimization_trace.append(loss.item())\n",
    "                loss.backward()\n",
    "                optimizer.step()\n",
    "                step += 1\n",
    "\n",
    "        # test on each epoch\n",
    "        model.eval()\n",
    "        test_pred_classes = torch.empty(len(test_classes), dtype=torch.int64)\n",
    "        test_pred_probabilities = torch.empty(n_classes, len(test_classes), dtype=torch.float32)\n",
    "        with torch.no_grad():\n",
    "            for i, (x_batch, y_batch, batch_index) in enumerate(test_loader):\n",
    "                j = (i * test_loader.batch_size)\n",
    "                x_batch = x_batch.to(device)\n",
    "                y_batch = y_batch.to(device)\n",
    "\n",
    "                test_pred_dist = model(resnet_extractor.backbone(x_batch)) # resnet\n",
    "\n",
    "                # output = resnet_extractor.model(x_batch)  # transformer\n",
    "                # test_pred_dist = model(output.last_hidden_state[:, 0])  # transformer\n",
    "\n",
    "                test_pred_samples = test_pred_dist.sample(torch.Size((256,))).exp()\n",
    "                test_probabilities = (test_pred_samples / test_pred_samples.sum(1, keepdim=True)).mean(0)\n",
    "                test_pred_classes[j:j + len(x_batch)] = torch.argmax(test_probabilities, dim=0, keepdim=False)\n",
    "                test_pred_probabilities[:, j:j + len(x_batch)] = test_probabilities\n",
    "\n",
    "        acc = sklearn.metrics.accuracy_score(test_classes.detach().cpu(), test_pred_classes.detach().cpu())\n",
    "        auc = sklearn.metrics.roc_auc_score(test_classes.detach().cpu(), test_pred_probabilities.detach().cpu().T,\n",
    "                                            multi_class=\"ovo\")\n",
    "        metrics = pd.Series(index=['acc', 'auc'])\n",
    "        metrics.at['acc'] = acc\n",
    "        metrics.at['auc'] = auc\n",
    "        print(metrics)\n",
    "        with torch.no_grad():\n",
    "            wandb.log({\n",
    "                'test/acc'+'/'+para_str: acc,\n",
    "                'test/auc'+'/'+para_str: auc},step=step)\n",
    "        params_results['test/acc'+'/'+para_str+'_'+str(epoch)] = acc\n",
    "        params_results['test/auc'+'/'+para_str+'_'+str(epoch)] = auc\n",
    "\n",
    "        wandb.finish()\n",
    "print('all parameters results:')\n",
    "print(params_results)"
   ]
  }
 ],
 "metadata": {
  "kernelspec": {
   "display_name": "deep_gp",
   "language": "python",
   "name": "python3"
  },
  "language_info": {
   "codemirror_mode": {
    "name": "ipython",
    "version": 3
   },
   "file_extension": ".py",
   "mimetype": "text/x-python",
   "name": "python",
   "nbconvert_exporter": "python",
   "pygments_lexer": "ipython3",
   "version": "3.10.13"
  }
 },
 "nbformat": 4,
 "nbformat_minor": 2
}
